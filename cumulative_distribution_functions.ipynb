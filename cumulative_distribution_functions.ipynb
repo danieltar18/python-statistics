{
 "cells": [
  {
   "cell_type": "markdown",
   "id": "8270684f",
   "metadata": {},
   "source": [
    "# Cumulative Distribution Functions\n",
    "\n",
    "Frequency tables and PMFs are the most familiar ways to represent distributions, but as we’ll see in this chapter, they have limitations. An alternative is the cumulative distribution function (CDF), which is useful for computing percentiles, and especially useful for comparing distributions.\n",
    "\n",
    "Also in this chapter, we’ll compute percentile-based statistics to quantify the location, spread, and skewness of a distribution.\n",
    "https://allendowney.github.io/ThinkStats/chap04.html"
   ]
  },
  {
   "cell_type": "code",
   "execution_count": 1,
   "id": "398cf74c",
   "metadata": {},
   "outputs": [],
   "source": [
    "import numpy as np\n",
    "import pandas as pd\n",
    "import matplotlib.pyplot as plt\n",
    "import requests"
   ]
  },
  {
   "cell_type": "code",
   "execution_count": null,
   "id": "889f6eb3",
   "metadata": {},
   "outputs": [],
   "source": []
  },
  {
   "cell_type": "markdown",
   "id": "ecfc46fa",
   "metadata": {},
   "source": [
    "## Percentiles and Percentile Ranks\n",
    "\n",
    "If you have taken a standardized test, you probably got your results in the form of a raw score and a percentile rank. In this context, the percentile rank is the percentage of people who got the same score as you or lower. So if you are “in the 90th percentile,” you did as well as or better than 90% of the people who took the exam.\n",
    "\n",
    "To understand percentiles and percentile ranks, let’s consider an example based on running speeds. Some years ago I ran the James Joyce Ramble, which is a 10 kilometer road race in Massachusetts. After the race, I downloaded the results to see how my time compared to other runners."
   ]
  },
  {
   "cell_type": "code",
   "execution_count": 2,
   "id": "e6aaaa03",
   "metadata": {},
   "outputs": [],
   "source": [
    "def download(url, path=\"datasets\"):\n",
    "    content = requests.get(url).content\n",
    "\n",
    "    with open(f\"{path + url.split('/')[-1]}\", mode=\"wb\") as file:\n",
    "        file.write(content)"
   ]
  },
  {
   "cell_type": "code",
   "execution_count": 3,
   "id": "38ec9afc",
   "metadata": {},
   "outputs": [],
   "source": [
    "#download(\"https://github.com/AllenDowney/ThinkStats/raw/v3/nb/relay.py\", path=\"\")\n",
    "#download(\"https://github.com/AllenDowney/ThinkStats/raw/v3/data/Apr25_27thAn_set1.shtml\", path=\"datasets/relay/\")"
   ]
  },
  {
   "cell_type": "code",
   "execution_count": 4,
   "id": "0375dbbb",
   "metadata": {},
   "outputs": [
    {
     "data": {
      "text/html": [
       "<div>\n",
       "<style scoped>\n",
       "    .dataframe tbody tr th:only-of-type {\n",
       "        vertical-align: middle;\n",
       "    }\n",
       "\n",
       "    .dataframe tbody tr th {\n",
       "        vertical-align: top;\n",
       "    }\n",
       "\n",
       "    .dataframe thead th {\n",
       "        text-align: right;\n",
       "    }\n",
       "</style>\n",
       "<table border=\"1\" class=\"dataframe\">\n",
       "  <thead>\n",
       "    <tr style=\"text-align: right;\">\n",
       "      <th></th>\n",
       "      <th>Place</th>\n",
       "      <th>Div/Tot</th>\n",
       "      <th>Division</th>\n",
       "      <th>Guntime</th>\n",
       "      <th>Nettime</th>\n",
       "      <th>Min/Mile</th>\n",
       "      <th>MPH</th>\n",
       "    </tr>\n",
       "  </thead>\n",
       "  <tbody>\n",
       "    <tr>\n",
       "      <th>0</th>\n",
       "      <td>1</td>\n",
       "      <td>1/362</td>\n",
       "      <td>M2039</td>\n",
       "      <td>30:43</td>\n",
       "      <td>30:42</td>\n",
       "      <td>4:57</td>\n",
       "      <td>12.121212</td>\n",
       "    </tr>\n",
       "    <tr>\n",
       "      <th>1</th>\n",
       "      <td>2</td>\n",
       "      <td>2/362</td>\n",
       "      <td>M2039</td>\n",
       "      <td>31:36</td>\n",
       "      <td>31:36</td>\n",
       "      <td>5:06</td>\n",
       "      <td>11.764706</td>\n",
       "    </tr>\n",
       "    <tr>\n",
       "      <th>2</th>\n",
       "      <td>3</td>\n",
       "      <td>3/362</td>\n",
       "      <td>M2039</td>\n",
       "      <td>31:42</td>\n",
       "      <td>31:42</td>\n",
       "      <td>5:07</td>\n",
       "      <td>11.726384</td>\n",
       "    </tr>\n",
       "    <tr>\n",
       "      <th>3</th>\n",
       "      <td>4</td>\n",
       "      <td>4/362</td>\n",
       "      <td>M2039</td>\n",
       "      <td>32:28</td>\n",
       "      <td>32:27</td>\n",
       "      <td>5:14</td>\n",
       "      <td>11.464968</td>\n",
       "    </tr>\n",
       "    <tr>\n",
       "      <th>4</th>\n",
       "      <td>5</td>\n",
       "      <td>5/362</td>\n",
       "      <td>M2039</td>\n",
       "      <td>32:52</td>\n",
       "      <td>32:52</td>\n",
       "      <td>5:18</td>\n",
       "      <td>11.320755</td>\n",
       "    </tr>\n",
       "  </tbody>\n",
       "</table>\n",
       "</div>"
      ],
      "text/plain": [
       "   Place Div/Tot Division Guntime Nettime Min/Mile        MPH\n",
       "0      1   1/362    M2039   30:43   30:42     4:57  12.121212\n",
       "1      2   2/362    M2039   31:36   31:36     5:06  11.764706\n",
       "2      3   3/362    M2039   31:42   31:42     5:07  11.726384\n",
       "3      4   4/362    M2039   32:28   32:27     5:14  11.464968\n",
       "4      5   5/362    M2039   32:52   32:52     5:18  11.320755"
      ]
     },
     "execution_count": 4,
     "metadata": {},
     "output_type": "execute_result"
    }
   ],
   "source": [
    "from relay import read_results\n",
    "\n",
    "results = read_results()\n",
    "results.head()"
   ]
  },
  {
   "cell_type": "code",
   "execution_count": 5,
   "id": "a073d51b",
   "metadata": {},
   "outputs": [],
   "source": [
    "speeds = results[\"MPH\"].values"
   ]
  },
  {
   "cell_type": "code",
   "execution_count": 7,
   "id": "f1e61425",
   "metadata": {},
   "outputs": [
    {
     "data": {
      "text/html": [
       "<div>\n",
       "<style scoped>\n",
       "    .dataframe tbody tr th:only-of-type {\n",
       "        vertical-align: middle;\n",
       "    }\n",
       "\n",
       "    .dataframe tbody tr th {\n",
       "        vertical-align: top;\n",
       "    }\n",
       "\n",
       "    .dataframe thead th {\n",
       "        text-align: right;\n",
       "    }\n",
       "</style>\n",
       "<table border=\"1\" class=\"dataframe\">\n",
       "  <thead>\n",
       "    <tr style=\"text-align: right;\">\n",
       "      <th></th>\n",
       "      <th>Place</th>\n",
       "      <th>Div/Tot</th>\n",
       "      <th>Division</th>\n",
       "      <th>Guntime</th>\n",
       "      <th>Nettime</th>\n",
       "      <th>Min/Mile</th>\n",
       "      <th>MPH</th>\n",
       "    </tr>\n",
       "  </thead>\n",
       "  <tbody>\n",
       "    <tr>\n",
       "      <th>96</th>\n",
       "      <td>97</td>\n",
       "      <td>26/256</td>\n",
       "      <td>M4049</td>\n",
       "      <td>42:48</td>\n",
       "      <td>42:44</td>\n",
       "      <td>6:53</td>\n",
       "      <td>8.716707</td>\n",
       "    </tr>\n",
       "  </tbody>\n",
       "</table>\n",
       "</div>"
      ],
      "text/plain": [
       "    Place Div/Tot Division Guntime Nettime Min/Mile       MPH\n",
       "96     97  26/256    M4049   42:48   42:44     6:53  8.716707"
      ]
     },
     "execution_count": 7,
     "metadata": {},
     "output_type": "execute_result"
    }
   ],
   "source": [
    "my_result = results.query(\"Nettime == '42:44'\")\n",
    "my_result"
   ]
  },
  {
   "cell_type": "code",
   "execution_count": 9,
   "id": "ffa73ffb",
   "metadata": {},
   "outputs": [
    {
     "data": {
      "text/plain": [
       "1537"
      ]
     },
     "execution_count": 9,
     "metadata": {},
     "output_type": "execute_result"
    }
   ],
   "source": [
    "my_speed = speeds[96]\n",
    "(speeds <= my_speed).sum()"
   ]
  },
  {
   "cell_type": "code",
   "execution_count": 14,
   "id": "c7e302e8",
   "metadata": {},
   "outputs": [
    {
     "data": {
      "text/plain": [
       "94.12124923453766"
      ]
     },
     "execution_count": 14,
     "metadata": {},
     "output_type": "execute_result"
    }
   ],
   "source": [
    "(speeds <= my_speed).mean()*100\n",
    "#The result is my percentile rank in the field, which was about 94%."
   ]
  },
  {
   "cell_type": "code",
   "execution_count": 19,
   "id": "51d492b9",
   "metadata": {},
   "outputs": [],
   "source": [
    "def percentile_rank(x, seq):\n",
    "    \"\"\"Percentile rank of x.\n",
    "\n",
    "    x: value\n",
    "    seq: sequence of values\n",
    "\n",
    "    returns: percentile rank 0-100\n",
    "    \"\"\"\n",
    "    return (seq <= x).mean() * 100"
   ]
  },
  {
   "cell_type": "code",
   "execution_count": 23,
   "id": "52971a3c",
   "metadata": {},
   "outputs": [],
   "source": [
    "# Division Male aged 40-49 \n",
    "my_division = results.query(\"Division == 'M4049'\")\n",
    "my_division_speeds = my_division[\"MPH\"].values"
   ]
  },
  {
   "cell_type": "code",
   "execution_count": 24,
   "id": "6dcf372c",
   "metadata": {},
   "outputs": [
    {
     "data": {
      "text/plain": [
       "90.234375"
      ]
     },
     "execution_count": 24,
     "metadata": {},
     "output_type": "execute_result"
    }
   ],
   "source": [
    "percentile_rank(my_speed, my_division_speeds)"
   ]
  },
  {
   "cell_type": "code",
   "execution_count": 25,
   "metadata": {},
   "outputs": [],
   "source": [
    "def percentile(p, seq):\n",
    "    n = len(seq)\n",
    "    i = (1 - p / 100) * (n + 1)\n",
    "    return seq[round(i)]"
   ]
  },
  {
   "cell_type": "code",
   "execution_count": 26,
   "id": "7a7fde46",
   "metadata": {},
   "outputs": [
    {
     "data": {
      "text/plain": [
       "8.591885441527447"
      ]
     },
     "execution_count": 26,
     "metadata": {},
     "output_type": "execute_result"
    }
   ],
   "source": [
    "percentile(90, my_division_speeds)"
   ]
  },
  {
   "cell_type": "code",
   "execution_count": 27,
   "id": "f4c3fdbc",
   "metadata": {},
   "outputs": [
    {
     "data": {
      "text/plain": [
       "8.017817371937639"
      ]
     },
     "execution_count": 27,
     "metadata": {},
     "output_type": "execute_result"
    }
   ],
   "source": [
    "next_division = results.query(\"Division == 'M5059'\")\n",
    "next_division_speeds = next_division[\"MPH\"].values\n",
    "\n",
    "percentile(90.2, next_division_speeds)"
   ]
  },
  {
   "cell_type": "code",
   "execution_count": 28,
   "id": "aa68584e",
   "metadata": {},
   "outputs": [
    {
     "data": {
      "text/html": [
       "<div>\n",
       "<style scoped>\n",
       "    .dataframe tbody tr th:only-of-type {\n",
       "        vertical-align: middle;\n",
       "    }\n",
       "\n",
       "    .dataframe tbody tr th {\n",
       "        vertical-align: top;\n",
       "    }\n",
       "\n",
       "    .dataframe thead th {\n",
       "        text-align: right;\n",
       "    }\n",
       "</style>\n",
       "<table border=\"1\" class=\"dataframe\">\n",
       "  <thead>\n",
       "    <tr style=\"text-align: right;\">\n",
       "      <th></th>\n",
       "      <th>Place</th>\n",
       "      <th>Div/Tot</th>\n",
       "      <th>Division</th>\n",
       "      <th>Guntime</th>\n",
       "      <th>Nettime</th>\n",
       "      <th>Min/Mile</th>\n",
       "      <th>MPH</th>\n",
       "    </tr>\n",
       "  </thead>\n",
       "  <tbody>\n",
       "    <tr>\n",
       "      <th>222</th>\n",
       "      <td>223</td>\n",
       "      <td>18/171</td>\n",
       "      <td>M5059</td>\n",
       "      <td>46:30</td>\n",
       "      <td>46:25</td>\n",
       "      <td>7:29</td>\n",
       "      <td>8.017817</td>\n",
       "    </tr>\n",
       "  </tbody>\n",
       "</table>\n",
       "</div>"
      ],
      "text/plain": [
       "     Place Div/Tot Division Guntime Nettime Min/Mile       MPH\n",
       "222    223  18/171    M5059   46:30   46:25     7:29  8.017817"
      ]
     },
     "execution_count": 28,
     "metadata": {},
     "output_type": "execute_result"
    }
   ],
   "source": [
    "next_division.query(\"MPH > 8.01\").tail(1)"
   ]
  },
  {
   "cell_type": "code",
   "execution_count": null,
   "id": "1d229ae7",
   "metadata": {},
   "outputs": [],
   "source": []
  },
  {
   "cell_type": "markdown",
   "id": "9ac4ae55",
   "metadata": {},
   "source": [
    "## CDFs\n",
    "\n",
    "A cumulative distribution function, or CDF, is another way to describe the distribution of a set of values, along with a frequency table or PMF. Given a value x, the CDF computes the fraction of values less than or equal to x. As an example, we’ll start with a short sequence."
   ]
  },
  {
   "cell_type": "code",
   "execution_count": 29,
   "id": "5f796bc8",
   "metadata": {},
   "outputs": [],
   "source": [
    "t = [1, 2, 2, 3, 5]"
   ]
  },
  {
   "cell_type": "code",
   "execution_count": 30,
   "id": "726f5ab5",
   "metadata": {},
   "outputs": [
    {
     "data": {
      "text/html": [
       "<div>\n",
       "<style scoped>\n",
       "    .dataframe tbody tr th:only-of-type {\n",
       "        vertical-align: middle;\n",
       "    }\n",
       "\n",
       "    .dataframe tbody tr th {\n",
       "        vertical-align: top;\n",
       "    }\n",
       "\n",
       "    .dataframe thead th {\n",
       "        text-align: right;\n",
       "    }\n",
       "</style>\n",
       "<table border=\"1\" class=\"dataframe\">\n",
       "  <thead>\n",
       "    <tr style=\"text-align: right;\">\n",
       "      <th></th>\n",
       "      <th>probs</th>\n",
       "    </tr>\n",
       "  </thead>\n",
       "  <tbody>\n",
       "    <tr>\n",
       "      <th>1</th>\n",
       "      <td>0.2</td>\n",
       "    </tr>\n",
       "    <tr>\n",
       "      <th>2</th>\n",
       "      <td>0.4</td>\n",
       "    </tr>\n",
       "    <tr>\n",
       "      <th>3</th>\n",
       "      <td>0.2</td>\n",
       "    </tr>\n",
       "    <tr>\n",
       "      <th>5</th>\n",
       "      <td>0.2</td>\n",
       "    </tr>\n",
       "  </tbody>\n",
       "</table>\n",
       "</div>"
      ],
      "text/plain": [
       "1    0.2\n",
       "2    0.4\n",
       "3    0.2\n",
       "5    0.2\n",
       "Name: , dtype: float64"
      ]
     },
     "execution_count": 30,
     "metadata": {},
     "output_type": "execute_result"
    }
   ],
   "source": [
    "from empiricaldist import Pmf\n",
    "\n",
    "pmf = Pmf.from_seq(t)\n",
    "pmf"
   ]
  },
  {
   "cell_type": "code",
   "execution_count": 31,
   "id": "7841e204",
   "metadata": {},
   "outputs": [
    {
     "data": {
      "text/html": [
       "<div>\n",
       "<style scoped>\n",
       "    .dataframe tbody tr th:only-of-type {\n",
       "        vertical-align: middle;\n",
       "    }\n",
       "\n",
       "    .dataframe tbody tr th {\n",
       "        vertical-align: top;\n",
       "    }\n",
       "\n",
       "    .dataframe thead th {\n",
       "        text-align: right;\n",
       "    }\n",
       "</style>\n",
       "<table border=\"1\" class=\"dataframe\">\n",
       "  <thead>\n",
       "    <tr style=\"text-align: right;\">\n",
       "      <th></th>\n",
       "      <th>probs</th>\n",
       "    </tr>\n",
       "  </thead>\n",
       "  <tbody>\n",
       "    <tr>\n",
       "      <th>1</th>\n",
       "      <td>0.2</td>\n",
       "    </tr>\n",
       "    <tr>\n",
       "      <th>2</th>\n",
       "      <td>0.6</td>\n",
       "    </tr>\n",
       "    <tr>\n",
       "      <th>3</th>\n",
       "      <td>0.8</td>\n",
       "    </tr>\n",
       "    <tr>\n",
       "      <th>5</th>\n",
       "      <td>1.0</td>\n",
       "    </tr>\n",
       "  </tbody>\n",
       "</table>\n",
       "</div>"
      ],
      "text/plain": [
       "1    0.2\n",
       "2    0.6\n",
       "3    0.8\n",
       "5    1.0\n",
       "Name: , dtype: float64"
      ]
     },
     "execution_count": 31,
     "metadata": {},
     "output_type": "execute_result"
    }
   ],
   "source": [
    "cdf = pmf.make_cdf()\n",
    "cdf"
   ]
  },
  {
   "cell_type": "code",
   "execution_count": 33,
   "id": "03a15cc2",
   "metadata": {},
   "outputs": [
    {
     "data": {
      "text/plain": [
       "0.6000000000000001"
      ]
     },
     "execution_count": 33,
     "metadata": {},
     "output_type": "execute_result"
    }
   ],
   "source": [
    "cdf[2]\n",
    "# The result is the proportion of values in the sequence less than or equal to the given value. In this example, \n",
    "# three out of five values in the sequence are less than or equal to 2, so the result is 0.6. \n",
    "# We can also think of this proportion as the probability that a randomly chosen value from the sequence is less than or equal to 2."
   ]
  },
  {
   "cell_type": "code",
   "execution_count": 37,
   "id": "594584fe",
   "metadata": {},
   "outputs": [
    {
     "data": {
      "image/png": "[encoded data removed]",
      "text/plain": [
       "<Figure size 640x480 with 1 Axes>"
      ]
     },
     "metadata": {},
     "output_type": "display_data"
    }
   ],
   "source": [
    "cdf.step()\n",
    "\n",
    "plt.xlabel(\"x\")\n",
    "plt.ylabel(\"CDF\")\n",
    "plt.show()"
   ]
  },
  {
   "cell_type": "code",
   "execution_count": 38,
   "id": "43d21788",
   "metadata": {},
   "outputs": [],
   "source": [
    "from empiricaldist import Cdf\n",
    "\n",
    "cdf_speeds = Cdf.from_seq(speeds)"
   ]
  },
  {
   "cell_type": "code",
   "execution_count": 52,
   "metadata": {},
   "outputs": [
    {
     "data": {
      "image/png": "[encoded data removed]",
      "text/plain": [
       "<Figure size 640x480 with 1 Axes>"
      ]
     },
     "metadata": {},
     "output_type": "display_data"
    }
   ],
   "source": [
    "cdf_speeds.step()\n",
    "plt.axvline(my_speed, ls=\":\", color=\"gray\")\n",
    "plt.text(my_speed+0.2, cdf_speeds(my_speed)-0.15, f\"My Speed: {round(my_speed, 2)} mph\")\n",
    "\n",
    "plt.xlabel(\"Speed (mph)\")\n",
    "plt.ylabel(\"CDF\")\n",
    "plt.show()"
   ]
  },
  {
   "cell_type": "code",
   "execution_count": 42,
   "id": "40a12335",
   "metadata": {},
   "outputs": [
    {
     "data": {
      "text/plain": [
       "94.12124923453766"
      ]
     },
     "execution_count": 42,
     "metadata": {},
     "output_type": "execute_result"
    }
   ],
   "source": [
    "cdf_speeds(my_speed) * 100\n"
   ]
  },
  {
   "cell_type": "code",
   "execution_count": 56,
   "metadata": {},
   "outputs": [
    {
     "data": {
      "text/plain": [
       "array(6.70391061)"
      ]
     },
     "execution_count": 56,
     "metadata": {},
     "output_type": "execute_result"
    }
   ],
   "source": [
    "# Inverse -  50% of the field\n",
    "cdf_speeds.inverse(0.5)"
   ]
  },
  {
   "cell_type": "markdown",
   "id": "5c8354f0",
   "metadata": {},
   "source": [
    "If you have a proportion and you use the inverse CDF to find the corresponding value, the result is called a quantile – so the inverse CDF is sometimes called the quantile function."
   ]
  },
  {
   "cell_type": "code",
   "execution_count": null,
   "id": "43a3e175",
   "metadata": {},
   "outputs": [],
   "source": []
  },
  {
   "cell_type": "markdown",
   "id": "3e57735d",
   "metadata": {},
   "source": [
    "## Comparing CDFs\n",
    "\n",
    "CDFs are especially useful for comparing distributions. As an example, let’s compare the distribution of birth weights for first babies and others. We’ll load the NSFG dataset again, and divide it into three DataFrames: all live births, first babies, and others.\n",
    "\n",
    "The following cells download the data files and install statadict, which we need to read the data."
   ]
  },
  {
   "cell_type": "code",
   "execution_count": 57,
   "id": "e8aee0a4",
   "metadata": {},
   "outputs": [],
   "source": [
    "import statadict\n",
    "from nsfg import get_nsfg_groups\n",
    "\n",
    "live, firsts, others = get_nsfg_groups()"
   ]
  },
  {
   "cell_type": "code",
   "execution_count": 59,
   "id": "06b66df5",
   "metadata": {},
   "outputs": [
    {
     "data": {
      "text/plain": [
       "7.201094430437772"
      ]
     },
     "execution_count": 59,
     "metadata": {},
     "output_type": "execute_result"
    }
   ],
   "source": [
    "first_weights = firsts[\"totalwgt_lb\"].dropna()\n",
    "first_weights.mean()"
   ]
  },
  {
   "cell_type": "code",
   "execution_count": 60,
   "id": "5997baf6",
   "metadata": {},
   "outputs": [
    {
     "data": {
      "text/plain": [
       "7.325855614973262"
      ]
     },
     "execution_count": 60,
     "metadata": {},
     "output_type": "execute_result"
    }
   ],
   "source": [
    "other_weights = others[\"totalwgt_lb\"].dropna()\n",
    "other_weights.mean()"
   ]
  },
  {
   "cell_type": "code",
   "execution_count": 61,
   "id": "efb63676",
   "metadata": {},
   "outputs": [],
   "source": [
    "first_pmf = Pmf.from_seq(first_weights, name=\"first\")\n",
    "other_pmf = Pmf.from_seq(other_weights, name=\"other\")"
   ]
  },
  {
   "cell_type": "code",
   "execution_count": 62,
   "id": "9a35b2a5",
   "metadata": {},
   "outputs": [],
   "source": [
    "def two_bar_plots(ftab1, ftab2, label_1=\"Label 1\", label_2=\"Label 2\", width=0.45):\n",
    "    ftab1.bar(align=\"edge\", width=-width, label=label_1)\n",
    "    ftab2.bar(align=\"edge\", width=width, alpha=0.5, label=label_2)"
   ]
  },
  {
   "cell_type": "code",
   "execution_count": 67,
   "id": "50e7d9fb",
   "metadata": {},
   "outputs": [
    {
     "data": {
      "image/png": "[encoded data removed]",
      "text/plain": [
       "<Figure size 640x480 with 1 Axes>"
      ]
     },
     "metadata": {},
     "output_type": "display_data"
    }
   ],
   "source": [
    "plt.title(\"First and other born babies - PMF\")\n",
    "two_bar_plots(first_pmf, other_pmf, label_1=\"First\", label_2=\"Other\", width=0.06)\n",
    "\n",
    "plt.xlabel(\"Weights (pounds)\")\n",
    "plt.ylabel(\"PMF\")\n",
    "plt.legend()\n",
    "plt.show()"
   ]
  },
  {
   "cell_type": "code",
   "execution_count": 68,
   "id": "6c3f5dfa",
   "metadata": {},
   "outputs": [],
   "source": [
    "# Difficult to compare, plot cdf\n",
    "\n",
    "first_cdf = first_pmf.make_cdf()\n",
    "other_cdf = other_pmf.make_cdf()"
   ]
  },
  {
   "cell_type": "code",
   "execution_count": 70,
   "id": "89fbd040",
   "metadata": {},
   "outputs": [
    {
     "data": {
      "image/png": "[encoded data removed]",
      "text/plain": [
       "<Figure size 640x480 with 1 Axes>"
      ]
     },
     "metadata": {},
     "output_type": "display_data"
    }
   ],
   "source": [
    "first_cdf.plot(ls=\"--\")\n",
    "other_cdf.plot(alpha=0.5)\n",
    "\n",
    "plt.xlabel(\"Weights (pounds)\")\n",
    "plt.ylabel(\"CDF\")\n",
    "plt.legend()\n",
    "plt.show()"
   ]
  },
  {
   "cell_type": "markdown",
   "id": "0b2e9278",
   "metadata": {},
   "source": [
    "This figure makes the shape of the distributions, and the differences between them, much clearer. The curve for first babies is consistently to the left of the curve for others, which indicates that first babies are slightly lighter throughout the distribution – with a larger discrepancy above the midpoint.\n"
   ]
  },
  {
   "cell_type": "code",
   "execution_count": null,
   "id": "574be6d9",
   "metadata": {},
   "outputs": [],
   "source": []
  },
  {
   "cell_type": "markdown",
   "id": "a61fa92c",
   "metadata": {},
   "source": [
    "## Percentile-Based Statistics\n",
    "\n",
    "In Chapter 3 we computed the arithmetic mean, which identifies a central point in a distribution, and the standard deviation, which quantifies how spread out the distribution is. And in a previous exercise we computed skewness, which indicates whether a distribution is skewed left or right. One drawback of all of these statistics is that they are sensitive to **outliers**. A single extreme value in a dataset can have a large effect on mean, standard deviation, and skewness.\n",
    "\n",
    "An alternative is to use statistics that are based on percentiles of the distribution, which tend to be more **robust**, which means that they are less sensitive to outliers. To demonstrate, let’s load the NSFG data again without doing any data cleaning."
   ]
  },
  {
   "cell_type": "code",
   "execution_count": null,
   "id": "56e3d5c7",
   "metadata": {},
   "outputs": [],
   "source": [
    "from nsfg import read_nsfg_data\n",
    "from empiricaldist import Hist\n",
    "\n",
    "preg = read_nsfg_data()"
   ]
  },
  {
   "cell_type": "code",
   "execution_count": 75,
   "id": "b26e8f7b",
   "metadata": {},
   "outputs": [],
   "source": [
    "birthwgt_lb = preg[\"birthwgt_lb\"]\n",
    "birthwgt_oz = preg[\"birthwgt_oz\"]"
   ]
  },
  {
   "cell_type": "code",
   "execution_count": 78,
   "metadata": {},
   "outputs": [
    {
     "data": {
      "text/html": [
       "<div>\n",
       "<style scoped>\n",
       "    .dataframe tbody tr th:only-of-type {\n",
       "        vertical-align: middle;\n",
       "    }\n",
       "\n",
       "    .dataframe tbody tr th {\n",
       "        vertical-align: top;\n",
       "    }\n",
       "\n",
       "    .dataframe thead th {\n",
       "        text-align: right;\n",
       "    }\n",
       "</style>\n",
       "<table border=\"1\" class=\"dataframe\">\n",
       "  <thead>\n",
       "    <tr style=\"text-align: right;\">\n",
       "      <th></th>\n",
       "      <th>freqs</th>\n",
       "    </tr>\n",
       "    <tr>\n",
       "      <th>birthwgt_oz</th>\n",
       "      <th></th>\n",
       "    </tr>\n",
       "  </thead>\n",
       "  <tbody>\n",
       "    <tr>\n",
       "      <th>14.0</th>\n",
       "      <td>475</td>\n",
       "    </tr>\n",
       "    <tr>\n",
       "      <th>15.0</th>\n",
       "      <td>378</td>\n",
       "    </tr>\n",
       "    <tr>\n",
       "      <th>97.0</th>\n",
       "      <td>1</td>\n",
       "    </tr>\n",
       "    <tr>\n",
       "      <th>98.0</th>\n",
       "      <td>1</td>\n",
       "    </tr>\n",
       "    <tr>\n",
       "      <th>99.0</th>\n",
       "      <td>46</td>\n",
       "    </tr>\n",
       "  </tbody>\n",
       "</table>\n",
       "</div>"
      ],
      "text/plain": [
       "birthwgt_oz\n",
       "14.0    475\n",
       "15.0    378\n",
       "97.0      1\n",
       "98.0      1\n",
       "99.0     46\n",
       "Name: , dtype: int64"
      ]
     },
     "execution_count": 78,
     "metadata": {},
     "output_type": "execute_result"
    }
   ],
   "source": [
    "Hist.from_seq(birthwgt_oz).tail(5)"
   ]
  },
  {
   "cell_type": "code",
   "execution_count": 79,
   "id": "9f9e0477",
   "metadata": {},
   "outputs": [
    {
     "data": {
      "text/html": [
       "<div>\n",
       "<style scoped>\n",
       "    .dataframe tbody tr th:only-of-type {\n",
       "        vertical-align: middle;\n",
       "    }\n",
       "\n",
       "    .dataframe tbody tr th {\n",
       "        vertical-align: top;\n",
       "    }\n",
       "\n",
       "    .dataframe thead th {\n",
       "        text-align: right;\n",
       "    }\n",
       "</style>\n",
       "<table border=\"1\" class=\"dataframe\">\n",
       "  <thead>\n",
       "    <tr style=\"text-align: right;\">\n",
       "      <th></th>\n",
       "      <th>freqs</th>\n",
       "    </tr>\n",
       "    <tr>\n",
       "      <th>birthwgt_lb</th>\n",
       "      <th></th>\n",
       "    </tr>\n",
       "  </thead>\n",
       "  <tbody>\n",
       "    <tr>\n",
       "      <th>15.0</th>\n",
       "      <td>1</td>\n",
       "    </tr>\n",
       "    <tr>\n",
       "      <th>51.0</th>\n",
       "      <td>1</td>\n",
       "    </tr>\n",
       "    <tr>\n",
       "      <th>97.0</th>\n",
       "      <td>1</td>\n",
       "    </tr>\n",
       "    <tr>\n",
       "      <th>98.0</th>\n",
       "      <td>1</td>\n",
       "    </tr>\n",
       "    <tr>\n",
       "      <th>99.0</th>\n",
       "      <td>57</td>\n",
       "    </tr>\n",
       "  </tbody>\n",
       "</table>\n",
       "</div>"
      ],
      "text/plain": [
       "birthwgt_lb\n",
       "15.0     1\n",
       "51.0     1\n",
       "97.0     1\n",
       "98.0     1\n",
       "99.0    57\n",
       "Name: , dtype: int64"
      ]
     },
     "execution_count": 79,
     "metadata": {},
     "output_type": "execute_result"
    }
   ],
   "source": [
    "Hist.from_seq(birthwgt_lb).tail(5)\n"
   ]
  },
  {
   "cell_type": "code",
   "execution_count": 86,
   "id": "e28de8bf",
   "metadata": {},
   "outputs": [],
   "source": [
    "## Clean the outliers vs. Not Clean (bogus)"
   ]
  },
  {
   "cell_type": "code",
   "execution_count": 87,
   "id": "f3eff4a3",
   "metadata": {},
   "outputs": [],
   "source": [
    "birthwgt_lb_clean = birthwgt_lb.replace([51, 97, 98, 99], np.nan)\n",
    "birthwgt_oz_clean = birthwgt_oz.replace([97, 98, 99], np.nan)\n",
    "\n",
    "total_weight_clean = birthwgt_lb_clean + birthwgt_oz_clean / 16"
   ]
  },
  {
   "cell_type": "code",
   "execution_count": 88,
   "id": "5dfaa1fc",
   "metadata": {},
   "outputs": [],
   "source": [
    "total_weight_bogus = birthwgt_lb + birthwgt_oz / 16"
   ]
  },
  {
   "cell_type": "code",
   "execution_count": 90,
   "id": "0047a40b",
   "metadata": {},
   "outputs": [
    {
     "data": {
      "text/plain": [
       "(49, 0.5421553441026776)"
      ]
     },
     "execution_count": 90,
     "metadata": {},
     "output_type": "execute_result"
    }
   ],
   "source": [
    "count1, count2 = total_weight_bogus.count(), total_weight_clean.count()\n",
    "diff = count1 - count2\n",
    "\n",
    "diff, diff / count2 * 100 \n",
    "# 49 bogus value, 0.5% of the data"
   ]
  },
  {
   "cell_type": "code",
   "execution_count": 102,
   "id": "4fb78495",
   "metadata": {},
   "outputs": [
    {
     "name": "stdout",
     "output_type": "stream",
     "text": [
      "7.319680587652691 7.265628457623368\n",
      "Pct diff: 0.74394294099376\n"
     ]
    }
   ],
   "source": [
    "# Mean\n",
    "mean1, mean2 = total_weight_bogus.mean(), total_weight_clean.mean()\n",
    "print(mean1, mean2)\n",
    "print(f\"Pct diff: {(mean1 - mean2) / mean2 * 100}\")\n",
    "# Minor pct diff in means"
   ]
  },
  {
   "cell_type": "code",
   "execution_count": 103,
   "id": "28fbce1e",
   "metadata": {},
   "outputs": [
    {
     "name": "stdout",
     "output_type": "stream",
     "text": [
      "2.0960017791618313 1.4082934455690168\n",
      "Pct diff: 48.83%\n"
     ]
    }
   ],
   "source": [
    "# Standard Deviation\n",
    "std1, std2 = total_weight_bogus.std(), total_weight_clean.std()\n",
    "print(std1, std2)\n",
    "print(f\"Pct diff: {round((std1 - std2) / std2 * 100, 2)}%\")\n",
    "\n",
    "# Noticeable 50% diff"
   ]
  },
  {
   "cell_type": "code",
   "execution_count": 104,
   "id": "f83bbd0f",
   "metadata": {},
   "outputs": [],
   "source": [
    "def skewness(seq):\n",
    "    \"\"\"Compute the skewness of a sequence\n",
    "\n",
    "    seq: sequence of numbers\n",
    "\n",
    "    returns: float skewness\n",
    "    \"\"\"\n",
    "    deviations = seq - seq.mean()\n",
    "    return np.mean(deviations**3) / seq.std(ddof=0) ** 3"
   ]
  },
  {
   "cell_type": "code",
   "execution_count": 108,
   "id": "e1213622",
   "metadata": {},
   "outputs": [
    {
     "name": "stdout",
     "output_type": "stream",
     "text": [
      "22.251846195422598 -0.5895062687577703\n",
      "Pct Diff: -38.7466\n"
     ]
    }
   ],
   "source": [
    "#Skewness\n",
    "skew1, skew2 = skewness(total_weight_bogus), skewness(total_weight_clean)\n",
    "print(skew1, skew2)\n",
    "\n",
    "print(f\"Pct Diff: {round((skew1 - skew2) / skew2,4)}\")\n"
   ]
  },
  {
   "cell_type": "markdown",
   "id": "af5c9c12",
   "metadata": {},
   "source": [
    "The skewness of the bogus dataset is off by a factor of almost **40**, and it has the wrong sign! With the outliers added to the data, the distribution is strongly skewed to the **right**, as indicated by **large positive** skewness. But the distribution of the valid data is slightly skewed to the **left**, as indicated by **small negative** skewness.\n",
    "\n",
    "These results show that a small number of outliers have a moderate effect on the mean, a strong effect on the standard deviation, and a disastrous effect on skewness."
   ]
  },
  {
   "cell_type": "code",
   "execution_count": 134,
   "id": "ec6811bc",
   "metadata": {},
   "outputs": [
    {
     "data": {
      "image/png": "[encoded data removed]",
      "text/plain": [
       "<Figure size 1500x500 with 2 Axes>"
      ]
     },
     "metadata": {},
     "output_type": "display_data"
    }
   ],
   "source": [
    "fig, ax = plt.subplots(ncols=2, figsize=(15, 5))\n",
    "\n",
    "ax[0].hist(total_weight_bogus, bins=100)\n",
    "ax[0].set_title(\"No clean series - Distribution\\nlarge positive skewness -> right-skewed\")\n",
    "ax[1].hist(total_weight_clean, bins=100)\n",
    "ax[1].set_title(\"Cleaned series - Distribution\\nsmall negative skewness -> left-skewed\")\n",
    "\n",
    "plt.show()"
   ]
  },
  {
   "cell_type": "markdown",
   "id": "44974768",
   "metadata": {},
   "source": [
    "An alternative is to use statistics based on percentiles. Specifically:\n",
    "\n",
    "The median, which is the 50th percentile, identifies a central point in a distribution, like the mean.\n",
    "\n",
    "The interquartile range, which is the difference between the 25th and 75th percentiles, quantifies the spread of the distribution, like the standard deviation.\n",
    "\n",
    "The quartile skewness uses the quartiles of the distribution (25th, 50th, and 75th percentiles) to quantify the skewness."
   ]
  },
  {
   "cell_type": "code",
   "execution_count": 135,
   "id": "56845572",
   "metadata": {},
   "outputs": [],
   "source": [
    "cdf_total_weight_bogus = Cdf.from_seq(total_weight_bogus)\n",
    "cdf_total_weight_clean = Cdf.from_seq(total_weight_clean)"
   ]
  },
  {
   "cell_type": "code",
   "execution_count": 136,
   "id": "bcf90756",
   "metadata": {},
   "outputs": [],
   "source": [
    "def median(cdf):\n",
    "    m = cdf.inverse(0.5)\n",
    "    return m"
   ]
  },
  {
   "cell_type": "code",
   "execution_count": 137,
   "metadata": {},
   "outputs": [
    {
     "data": {
      "text/plain": [
       "(array(7.375), array(7.375))"
      ]
     },
     "execution_count": 137,
     "metadata": {},
     "output_type": "execute_result"
    }
   ],
   "source": [
    "# Medians\n",
    "median(cdf_total_weight_bogus), median(cdf_total_weight_clean)"
   ]
  },
  {
   "cell_type": "markdown",
   "id": "8bc39917",
   "metadata": {},
   "source": [
    "The results are identical, so in this case, the outliers have no effect on the median at all. In general, outliers have a smaller effect on the median than on the mean."
   ]
  },
  {
   "cell_type": "markdown",
   "id": "afa9b675",
   "metadata": {},
   "source": [
    "The **interquartile range** (IQR) is the difference between the 75th and 25th percentiles. The following function takes a Cdf and returns the IQR."
   ]
  },
  {
   "cell_type": "code",
   "execution_count": 139,
   "id": "b65f15a6",
   "metadata": {},
   "outputs": [],
   "source": [
    "def iqr(cdf):\n",
    "    low, high = cdf.inverse([0.25, 0.75])\n",
    "    return high - low"
   ]
  },
  {
   "cell_type": "code",
   "execution_count": 140,
   "id": "b4fa75c2",
   "metadata": {},
   "outputs": [
    {
     "data": {
      "text/plain": [
       "(1.625, 1.625)"
      ]
     },
     "execution_count": 140,
     "metadata": {},
     "output_type": "execute_result"
    }
   ],
   "source": [
    "iqr(cdf_total_weight_bogus), iqr(cdf_total_weight_clean)"
   ]
  },
  {
   "cell_type": "markdown",
   "id": "a9f7eb62",
   "metadata": {},
   "source": [
    "Finally, here’s a function that computes quartile skewness, which depends on three statistics:\n",
    "\n",
    "* The median,\n",
    "\n",
    "* The midpoint of 25th and 75th percentiles, and\n",
    "\n",
    "* The semi-IQR, which is half of the IQR."
   ]
  },
  {
   "cell_type": "code",
   "execution_count": 141,
   "id": "8446deaf",
   "metadata": {},
   "outputs": [],
   "source": [
    "def quartile_skewness(cdf):\n",
    "    low, median, high = cdf.inverse([0.25, 0.5, 0.75])\n",
    "    midpoint = (high + low) / 2\n",
    "    semi_iqr = (high - low) / 2\n",
    "    return (midpoint - median) / semi_iqr"
   ]
  },
  {
   "cell_type": "code",
   "execution_count": 142,
   "id": "57fcb8a7",
   "metadata": {},
   "outputs": [
    {
     "data": {
      "text/plain": [
       "(-0.07692307692307693, -0.07692307692307693)"
      ]
     },
     "execution_count": 142,
     "metadata": {},
     "output_type": "execute_result"
    }
   ],
   "source": [
    "qskew1 = quartile_skewness(cdf_total_weight_bogus)\n",
    "qskew2 = quartile_skewness(cdf_total_weight_clean)\n",
    "qskew1, qskew2"
   ]
  },
  {
   "cell_type": "markdown",
   "id": "40db76e0",
   "metadata": {},
   "source": [
    "The small number of outliers in these examples has no effect on the quartile skewness. These examples show that percentile-based statistics are less sensitive to outliers and errors in the data."
   ]
  },
  {
   "cell_type": "code",
   "execution_count": null,
   "id": "b7d616e8",
   "metadata": {},
   "outputs": [],
   "source": []
  },
  {
   "cell_type": "markdown",
   "id": "cd23bc59",
   "metadata": {},
   "source": [
    "## Random Numbers"
   ]
  },
  {
   "cell_type": "markdown",
   "id": "f79a504e",
   "metadata": {},
   "source": [
    "Cdf objects provide an efficient way to generate random numbers from a distribution. First we generate random numbers from a uniform distribution between 0 and 1. Then we evaluate the inverse CDF at those points. The following function implements this algorithm."
   ]
  },
  {
   "cell_type": "code",
   "execution_count": 144,
   "id": "b6019890",
   "metadata": {},
   "outputs": [],
   "source": [
    "def sample_from_cdf(cdf, n):\n",
    "    ps = np.random.random(size=n)\n",
    "    return cdf.inverse(ps)"
   ]
  },
  {
   "cell_type": "code",
   "execution_count": 145,
   "id": "97bfd551",
   "metadata": {},
   "outputs": [],
   "source": [
    "sample = sample_from_cdf(cdf_speeds, 1001)"
   ]
  },
  {
   "cell_type": "code",
   "execution_count": 148,
   "id": "4c44218f",
   "metadata": {},
   "outputs": [
    {
     "data": {
      "image/png": "[encoded data removed]",
      "text/plain": [
       "<Figure size 640x480 with 1 Axes>"
      ]
     },
     "metadata": {},
     "output_type": "display_data"
    }
   ],
   "source": [
    "cdf_sample = Cdf.from_seq(sample)\n",
    "\n",
    "cdf_speeds.plot(label=\"original\", ls=\"--\")\n",
    "cdf_sample.plot(label=\"sample\", alpha=0.5)\n",
    "\n",
    "plt.xlabel(\"Speed (mph)\")\n",
    "plt.ylabel(\"CDF\")\n",
    "plt.legend()\n",
    "plt.show()"
   ]
  },
  {
   "cell_type": "markdown",
   "id": "06e4ba8c",
   "metadata": {},
   "source": [
    "The sample follows the distribution of the original data. To understand how this algorithm works, consider this question: \n",
    "\n",
    "Suppose we choose a random sample from the population of running speeds and look up the percentile ranks of the speeds in the sample. Now suppose we compute the CDF of the percentile ranks. What do you think it will look like?"
   ]
  },
  {
   "cell_type": "code",
   "execution_count": 154,
   "id": "327e3a24",
   "metadata": {},
   "outputs": [],
   "source": [
    "percentile_ranks = cdf_speeds(sample) * 100"
   ]
  },
  {
   "cell_type": "code",
   "execution_count": 157,
   "id": "b4b30ca0",
   "metadata": {},
   "outputs": [
    {
     "data": {
      "image/png": "[encoded data removed]",
      "text/plain": [
       "<Figure size 640x480 with 1 Axes>"
      ]
     },
     "metadata": {},
     "output_type": "display_data"
    }
   ],
   "source": [
    "cdf_percentile_rank = Cdf.from_seq(percentile_ranks)\n",
    "cdf_percentile_rank.plot()\n",
    "\n",
    "plt.xlabel(\"Percentile Rank\")\n",
    "plt.ylabel(\"CDF\")\n",
    "plt.show()"
   ]
  },
  {
   "cell_type": "markdown",
   "id": "9d436d02",
   "metadata": {},
   "source": [
    "The CDF of the percentile ranks is close to a straight line between 0 and 1. And that makes sense, because in any distribution, the proportion with percentile rank less than 50% is 0.5; the proportion with percentile rank less than 90% is 0.9, and so on."
   ]
  },
  {
   "cell_type": "code",
   "execution_count": 158,
   "id": "798b8c95",
   "metadata": {},
   "outputs": [],
   "source": [
    "sample = cdf_speeds.sample(1001)"
   ]
  },
  {
   "cell_type": "code",
   "execution_count": null,
   "id": "d41213d6",
   "metadata": {},
   "outputs": [],
   "source": []
  },
  {
   "cell_type": "markdown",
   "id": "7b727989",
   "metadata": {},
   "source": [
    "## Glossary"
   ]
  },
  {
   "cell_type": "markdown",
   "id": "fcfea478",
   "metadata": {},
   "source": [
    "* percentile rank: The percentage of values in a distribution that are less than or equal to a given quantity.\n",
    "\n",
    "* percentile: The value in a distribution associated with a given percentile rank.\n",
    "\n",
    "* cumulative distribution function (CDF): A function that maps a value to the proportion of the distribution less than or equal to that value.\n",
    "\n",
    "* quantile: The value in a distribution that is greater than or equal to a given proportion of values.\n",
    "\n",
    "* robust: A statistic is robust if it is less affected by extreme values or outliers.\n",
    "\n",
    "* interquartile range (IQR): The difference between the 75th and 25th percentiles, used to measure the spread of a distribution."
   ]
  },
  {
   "cell_type": "code",
   "execution_count": null,
   "id": "473ad145",
   "metadata": {},
   "outputs": [],
   "source": []
  },
  {
   "cell_type": "markdown",
   "id": "71f5ed67",
   "metadata": {},
   "source": [
    "##  Exercise 4.1\n",
    "\n",
    "How much did you weigh at birth? If you don’t know, call your mother or someone else who knows. And if no one knows, you can use my birth weight, 8.5 pounds, for this exercise.\n",
    "\n",
    "Using the NSFG data (all live births), compute the distribution of birth weights and use it to find your percentile rank. If you were a first baby, find your percentile rank in the distribution for first babies. Otherwise use the distribution for others. If you are in the 90th percentile or higher, call your mother back and apologize."
   ]
  },
  {
   "cell_type": "code",
   "execution_count": 223,
   "id": "8cfac756",
   "metadata": {},
   "outputs": [],
   "source": [
    "live, firsts, others = get_nsfg_groups()"
   ]
  },
  {
   "cell_type": "code",
   "execution_count": 224,
   "id": "831bcbad",
   "metadata": {},
   "outputs": [],
   "source": [
    "my_weight = 4.35 * 2.2 #approx 2.2 pound/kg"
   ]
  },
  {
   "cell_type": "markdown",
   "id": "d794d83b",
   "metadata": {},
   "source": [
    "### Live"
   ]
  },
  {
   "cell_type": "code",
   "execution_count": 225,
   "id": "fb9113a0",
   "metadata": {},
   "outputs": [],
   "source": [
    "birthwgt_lb = live.birthwgt_lb.replace([51, 97, 98, 99], np.nan)\n",
    "birthwgt_oz = live.birthwgt_oz.replace([97, 98, 99], np.nan)\n",
    "total_birthwgt = birthwgt_lb+ birthwgt_oz/ 16"
   ]
  },
  {
   "cell_type": "code",
   "execution_count": 226,
   "id": "66dec736",
   "metadata": {},
   "outputs": [
    {
     "data": {
      "text/plain": [
       "array(0.96393007)"
      ]
     },
     "execution_count": 226,
     "metadata": {},
     "output_type": "execute_result"
    }
   ],
   "source": [
    "cdf_birthwgt = Cdf.from_seq(total_birthwgt)\n",
    "cdf_birthwgt(my_weight)"
   ]
  },
  {
   "cell_type": "markdown",
   "id": "aa1a8f30",
   "metadata": {},
   "source": [
    "### Others"
   ]
  },
  {
   "cell_type": "code",
   "execution_count": 227,
   "id": "a2f287c4",
   "metadata": {},
   "outputs": [],
   "source": [
    "birthwgt_lb = others.birthwgt_lb.replace([51, 97, 98, 99], np.nan)\n",
    "birthwgt_oz = others.birthwgt_oz.replace([97, 98, 99], np.nan)\n",
    "total_birthwgt = birthwgt_lb+ birthwgt_oz/ 16"
   ]
  },
  {
   "cell_type": "code",
   "execution_count": 228,
   "id": "f3996335",
   "metadata": {},
   "outputs": [
    {
     "data": {
      "text/plain": [
       "array(0.96213904)"
      ]
     },
     "execution_count": 228,
     "metadata": {},
     "output_type": "execute_result"
    }
   ],
   "source": [
    "cdf_birthwgt_other = Cdf.from_seq(total_birthwgt)\n",
    "cdf_birthwgt_other(my_weight)"
   ]
  },
  {
   "cell_type": "code",
   "execution_count": 231,
   "id": "133bcfb8",
   "metadata": {},
   "outputs": [
    {
     "data": {
      "image/png": "[encoded data removed]",
      "text/plain": [
       "<Figure size 1500x500 with 2 Axes>"
      ]
     },
     "metadata": {},
     "output_type": "display_data"
    }
   ],
   "source": [
    "fig, ax = plt.subplots(ncols=2, figsize=(15, 5))\n",
    "\n",
    "cdf_birthwgt.step(ax=ax[0])\n",
    "ax[0].set_title(\"Live birth weights - CDF\")\n",
    "ax[0].axvline(my_weight, ls=\":\", color=\"gray\")\n",
    "ax[0].text(my_weight+0.2, cdf_birthwgt(my_weight)-0.15, f\"My Birth Weight: {round(my_weight, 2)} lb\\nPercentile: {round(cdf_birthwgt(my_weight).item(), 4)}\")\n",
    "\n",
    "ax[0].set_xlabel(\"Weight (lb)\")\n",
    "ax[0].set_ylabel(\"CDF\")\n",
    "\n",
    "cdf_birthwgt_other.step(ax=ax[1], c=\"red\")\n",
    "ax[1].set_title(\"Other birth weights - CDF\")\n",
    "ax[1].axvline(my_weight, ls=\":\", color=\"gray\")\n",
    "ax[1].text(my_weight+0.2, cdf_birthwgt_other(my_weight)-0.15, f\"My Birth Weight: {round(my_weight, 2)} lb\\nPercentile: {round(cdf_birthwgt_other(my_weight).item(), 4)}\")\n",
    "\n",
    "ax[1].set_xlabel(\"Weight (lb)\")\n",
    "ax[1].set_ylabel(\"CDF\")\n",
    "\n",
    "plt.show()"
   ]
  },
  {
   "cell_type": "code",
   "execution_count": null,
   "id": "878e8831",
   "metadata": {},
   "outputs": [],
   "source": []
  },
  {
   "cell_type": "markdown",
   "id": "f6866ab7",
   "metadata": {},
   "source": [
    "## Exercise 4.2\n",
    "\n",
    "For live births in the NSFG dataset, the column babysex indicates whether the baby was male or female. We can use query to select the rows for male and female babies.\n",
    "\n",
    "Make Cdf objects that represent the distribution of birth weights for male and female babies. Plot the two CDFs. What are the differences in the shape and location of the distributions?\n",
    "\n",
    "If a male baby weighs 8.5 pounds, what is his percentile rank? What is the weight of a female baby with the same percentile rank?"
   ]
  },
  {
   "cell_type": "code",
   "execution_count": 235,
   "id": "e96bb955",
   "metadata": {},
   "outputs": [],
   "source": [
    "live.birthwgt_lb = live.birthwgt_lb.replace([51, 97, 98, 99], np.nan)\n",
    "live.birthwgt_oz = live.birthwgt_oz.replace([97, 98, 99], np.nan)\n",
    "live[\"total_birthwgt\"] = birthwgt_lb+ birthwgt_oz/ 16"
   ]
  },
  {
   "cell_type": "code",
   "execution_count": 236,
   "id": "1fa09280",
   "metadata": {},
   "outputs": [
    {
     "data": {
      "text/plain": [
       "(4641, 4500)"
      ]
     },
     "execution_count": 236,
     "metadata": {},
     "output_type": "execute_result"
    }
   ],
   "source": [
    "male = live.query(\"babysex == 1\")\n",
    "female = live.query(\"babysex == 2\")\n",
    "len(male), len(female)"
   ]
  },
  {
   "cell_type": "code",
   "execution_count": 237,
   "id": "4477695a",
   "metadata": {},
   "outputs": [],
   "source": [
    "male_pmf = Pmf.from_seq(male.total_birthwgt, name=\"first\")\n",
    "female_pmf = Pmf.from_seq(female.total_birthwgt, name=\"other\")"
   ]
  },
  {
   "cell_type": "code",
   "execution_count": 238,
   "id": "3721f5e6",
   "metadata": {},
   "outputs": [],
   "source": [
    "# Difficult to compare, plot cdf\n",
    "\n",
    "male_cdf = male_pmf.make_cdf()\n",
    "female_cdf = female_pmf.make_cdf()"
   ]
  },
  {
   "cell_type": "code",
   "execution_count": 242,
   "id": "d9f0704d",
   "metadata": {},
   "outputs": [
    {
     "data": {
      "image/png": "[encoded data removed]",
      "text/plain": [
       "<Figure size 640x480 with 1 Axes>"
      ]
     },
     "metadata": {},
     "output_type": "display_data"
    }
   ],
   "source": [
    "male_cdf.plot(ls=\"--\", label=\"Male\")\n",
    "female_cdf.plot(alpha=0.5, label=\"Female\")\n",
    "\n",
    "plt.xlabel(\"Weights (pounds)\")\n",
    "plt.ylabel(\"CDF\")\n",
    "plt.legend()\n",
    "plt.show()"
   ]
  },
  {
   "cell_type": "code",
   "execution_count": 247,
   "id": "3f66f268",
   "metadata": {},
   "outputs": [
    {
     "name": "stdout",
     "output_type": "stream",
     "text": [
      "Male percentile rank: 0.7867616254713031\n",
      "Female percentile rank: 0.8618881118881117\n"
     ]
    }
   ],
   "source": [
    "print(f\"Male percentile rank: {male_cdf(8.5)}\")\n",
    "print(f\"Female percentile rank: {female_cdf(8.5)}\")"
   ]
  },
  {
   "cell_type": "code",
   "execution_count": null,
   "id": "273235cf",
   "metadata": {},
   "outputs": [],
   "source": []
  },
  {
   "cell_type": "markdown",
   "id": "9abcc4f8",
   "metadata": {},
   "source": [
    "## Exercise 4.3\n",
    "\n",
    "\n",
    "From the NSFG dataset pregnancy data, select the agepreg column and make a Cdf to represent the distribution of age at conception for each pregnancy. Use the CDF to compute the percentage of ages less than or equal to 20, and the percentage less than or equal to 30. Use those results to compute the percentage between 20 and 30."
   ]
  },
  {
   "cell_type": "code",
   "execution_count": 253,
   "id": "21d251d6",
   "metadata": {},
   "outputs": [],
   "source": [
    "preg = read_nsfg_data()\n",
    "preg[\"agepreg\"] /= 100.0"
   ]
  },
  {
   "cell_type": "code",
   "execution_count": 254,
   "id": "75babe90",
   "metadata": {},
   "outputs": [],
   "source": [
    "cdf_age = Cdf.from_seq(preg.agepreg)"
   ]
  },
  {
   "cell_type": "code",
   "execution_count": 264,
   "id": "b2362e49",
   "metadata": {},
   "outputs": [
    {
     "name": "stdout",
     "output_type": "stream",
     "text": [
      "Age 20 Percentile: 0.24718676837096895\n",
      "Age 30 Percentile: 0.8046220074012537\n",
      "Diff: 0.5574352390302847\n"
     ]
    }
   ],
   "source": [
    "age_20 = cdf_age(20)\n",
    "age_30 = cdf_age(30)\n",
    "\n",
    "print(f\"Age 20 Percentile: {age_20}\\nAge 30 Percentile: {age_30}\")\n",
    "print(f\"Diff: {age_30 - age_20}\")"
   ]
  },
  {
   "cell_type": "code",
   "execution_count": 266,
   "id": "1c36963a",
   "metadata": {},
   "outputs": [
    {
     "data": {
      "image/png": "[encoded data removed]",
      "text/plain": [
       "<Figure size 640x480 with 1 Axes>"
      ]
     },
     "metadata": {},
     "output_type": "display_data"
    }
   ],
   "source": [
    "cdf_age.plot(ls=\"--\")\n",
    "\n",
    "plt.xlabel(\"Age Preg\")\n",
    "plt.ylabel(\"CDF\")\n",
    "plt.show()"
   ]
  },
  {
   "cell_type": "code",
   "execution_count": null,
   "id": "ae1f34ed",
   "metadata": {},
   "outputs": [],
   "source": []
  },
  {
   "cell_type": "markdown",
   "id": "1e694f5b",
   "metadata": {},
   "source": [
    "## Exercise 4.4\n",
    "\n",
    "Here are the running speeds of the people who finished the James Joyce Ramble, described earlier in this chapter."
   ]
  },
  {
   "cell_type": "code",
   "execution_count": 267,
   "id": "6c047948",
   "metadata": {},
   "outputs": [],
   "source": [
    "speeds = results[\"MPH\"].values"
   ]
  },
  {
   "cell_type": "code",
   "execution_count": null,
   "id": "e22b75f2",
   "metadata": {},
   "outputs": [],
   "source": [
    "cdf_speeds = Cdf.from_seq(speeds)"
   ]
  },
  {
   "cell_type": "code",
   "execution_count": 270,
   "id": "77cbdfa7",
   "metadata": {},
   "outputs": [
    {
     "data": {
      "text/plain": [
       "array(6.70391061)"
      ]
     },
     "execution_count": 270,
     "metadata": {},
     "output_type": "execute_result"
    }
   ],
   "source": [
    "# Medians\n",
    "median(cdf_speeds)"
   ]
  },
  {
   "cell_type": "code",
   "execution_count": 271,
   "id": "5000e3a1",
   "metadata": {},
   "outputs": [
    {
     "data": {
      "text/plain": [
       "1.4865637507146943"
      ]
     },
     "execution_count": 271,
     "metadata": {},
     "output_type": "execute_result"
    }
   ],
   "source": [
    "iqr(cdf_speeds)"
   ]
  },
  {
   "cell_type": "code",
   "execution_count": null,
   "id": "8fdf47b6",
   "metadata": {},
   "outputs": [
    {
     "data": {
      "text/plain": [
       "0.6341408164866873"
      ]
     },
     "execution_count": 273,
     "metadata": {},
     "output_type": "execute_result"
    }
   ],
   "source": [
    "skewness(speeds)\n",
    "# Right skewed slightly"
   ]
  },
  {
   "cell_type": "code",
   "execution_count": 272,
   "id": "8b85d68e",
   "metadata": {},
   "outputs": [
    {
     "data": {
      "text/plain": [
       "0.13450795015040942"
      ]
     },
     "execution_count": 272,
     "metadata": {},
     "output_type": "execute_result"
    }
   ],
   "source": [
    "qskew1 = quartile_skewness(cdf_speeds)\n",
    "qskew1"
   ]
  },
  {
   "cell_type": "code",
   "execution_count": null,
   "id": "fa4be5ed",
   "metadata": {},
   "outputs": [],
   "source": []
  },
  {
   "cell_type": "markdown",
   "id": "13375697",
   "metadata": {},
   "source": [
    "##  Exercise 4.5\n",
    "\n",
    "The numbers generated by np.random.random are supposed to be uniform between 0 and 1, which means that the CDF of a sample should be a straight line. Let’s see if that’s true. Here’s a sample of 1001 numbers. Plot the CDF of this sample. Does it look like a straight line?"
   ]
  },
  {
   "cell_type": "code",
   "execution_count": 275,
   "id": "559ddefc",
   "metadata": {},
   "outputs": [],
   "source": [
    "t = np.random.random(1001)"
   ]
  },
  {
   "cell_type": "code",
   "execution_count": 277,
   "id": "d5c01192",
   "metadata": {},
   "outputs": [
    {
     "data": {
      "image/png": "[encoded data removed]",
      "text/plain": [
       "<Figure size 640x480 with 1 Axes>"
      ]
     },
     "metadata": {},
     "output_type": "display_data"
    }
   ],
   "source": [
    "cdf_t = Cdf.from_seq(t)\n",
    "cdf_t.plot()\n",
    "\n",
    "plt.xlabel(\"Percentile Rank\")\n",
    "plt.ylabel(\"CDF\")\n",
    "plt.show()"
   ]
  },
  {
   "cell_type": "code",
   "execution_count": null,
   "id": "740ef0a1",
   "metadata": {},
   "outputs": [],
   "source": []
  }
 ],
 "metadata": {
  "kernelspec": {
   "display_name": "base",
   "language": "python",
   "name": "python3"
  },
  "language_info": {
   "codemirror_mode": {
    "name": "ipython",
    "version": 3
   },
   "file_extension": ".py",
   "mimetype": "text/x-python",
   "name": "python",
   "nbconvert_exporter": "python",
   "pygments_lexer": "ipython3",
   "version": "3.9.20"
  }
 },
 "nbformat": 4,
 "nbformat_minor": 5
}
