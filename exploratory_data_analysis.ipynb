{
 "cells": [
  {
   "cell_type": "markdown",
   "id": "7c96f020",
   "metadata": {
    "vscode": {
     "languageId": "plaintext"
    }
   },
   "source": [
    "# Evidence\n",
    "\n",
    "### Anecdotal evidence\n",
    "\n",
    "For exmaple:\n",
    "Topic: First babies are more likely to be late. \n",
    "“I don’t think that can be true because my sister was my mother’s first and she was early, as with many of my cousins.”\n",
    "\n",
    "this type of evidence usually fails, because:\n",
    "\n",
    "* Small number of observations: If pregnancy length is longer for first babies, the difference is probably small compared to natural variation. In that case, we might have to compare a large number of pregnancies to know whether there is a difference.\n",
    "\n",
    "* Selection bias: People who join a discussion of this question might be interested because their first babies were late. In that case the process of selecting data would bias the results.\n",
    "\n",
    "* Confirmation bias: People who believe the claim might be more likely to contribute examples that confirm it. People who doubt the claim are more likely to cite counterexamples.\n",
    "\n",
    "* Inaccuracy: Anecdotes are often personal stories, and might be misremembered, misrepresented, repeated inaccurately, etc."
   ]
  },
  {
   "cell_type": "markdown",
   "id": "557d5e36",
   "metadata": {},
   "source": [
    "To address the limitations of anecdotes, we will use the tools of statistics, which include:\n",
    "\n",
    "* Data collection: We will use data from a large national survey that was designed explicitly with the goal of generating statistically valid inferences about the U.S. population.\n",
    "\n",
    "* Descriptive statistics: We will generate statistics that summarize the data concisely, and evaluate different ways to visualize data.\n",
    "\n",
    "* Exploratory data analysis: We will look for patterns, differences, and other features that address the questions we are interested in. At the same time we will check for inconsistencies and identify limitations.\n",
    "\n",
    "* Estimation: We will use data from a sample to estimate characteristics of the general population.\n",
    "\n",
    "* Hypothesis testing: Where we see apparent effects, like a difference between two groups, we will evaluate whether the effect might have happened by chance.\n"
   ]
  },
  {
   "cell_type": "code",
   "execution_count": null,
   "id": "4b294ce1",
   "metadata": {},
   "outputs": [],
   "source": []
  },
  {
   "cell_type": "markdown",
   "id": "2980a9dc",
   "metadata": {
    "vscode": {
     "languageId": "plaintext"
    }
   },
   "source": [
    "# The National Survey of Family Growth\n",
    "\n",
    "A stratified, oversampled cross-sectional study about 15-44 aged Hispanics, African-Americans and teenagers people in United States\n",
    "\n",
    "Source: https://allendowney.github.io/ThinkStats/chap01.html"
   ]
  },
  {
   "cell_type": "code",
   "execution_count": 1,
   "id": "2926c611",
   "metadata": {},
   "outputs": [],
   "source": [
    "class CFG:\n",
    "    folder_path= \"datasets/nsfg/\""
   ]
  },
  {
   "cell_type": "code",
   "execution_count": 2,
   "id": "8d433d72",
   "metadata": {},
   "outputs": [],
   "source": [
    "import requests\n",
    "import pandas as pd\n",
    "import numpy as np\n",
    "import matplotlib.pyplot as plt\n",
    "import seaborn as sns\n",
    "\n",
    "from statadict import parse_stata_dict"
   ]
  },
  {
   "cell_type": "code",
   "execution_count": 3,
   "id": "b1d049ec",
   "metadata": {},
   "outputs": [],
   "source": [
    "def download(url, path=\"datasets\"):\n",
    "    content = requests.get(url).content\n",
    "\n",
    "    with open(f\"{path + url.split('/')[-1]}\", mode=\"wb\") as file:\n",
    "        file.write(content)"
   ]
  },
  {
   "cell_type": "code",
   "execution_count": 4,
   "id": "4383bdc2",
   "metadata": {},
   "outputs": [],
   "source": [
    "download(\"https://github.com/AllenDowney/ThinkStats/raw/v3/data/2002FemPreg.dct\", path=CFG.folder_path)\n",
    "download(\"https://github.com/AllenDowney/ThinkStats/raw/v3/data/2002FemPreg.dat.gz\", path=CFG.folder_path)"
   ]
  },
  {
   "cell_type": "code",
   "execution_count": 5,
   "id": "3a077365",
   "metadata": {},
   "outputs": [],
   "source": [
    "try:\n",
    "    import statadict\n",
    "except ImportError:\n",
    "    %pip install statadict"
   ]
  },
  {
   "cell_type": "code",
   "execution_count": 6,
   "id": "abfdcc8b",
   "metadata": {},
   "outputs": [],
   "source": [
    "dct_file = CFG.folder_path + \"2002FemPreg.dct\"\n",
    "dat_file = CFG.folder_path + \"2002FemPreg.dat.gz\""
   ]
  },
  {
   "cell_type": "code",
   "execution_count": null,
   "id": "2896e27c",
   "metadata": {},
   "outputs": [],
   "source": []
  },
  {
   "cell_type": "markdown",
   "id": "f105204c",
   "metadata": {},
   "source": [
    "## Data Validation"
   ]
  },
  {
   "cell_type": "code",
   "execution_count": 7,
   "id": "4fe014aa",
   "metadata": {},
   "outputs": [],
   "source": [
    "def read_stata(dct_file, dat_file):\n",
    "    stata_dict = parse_stata_dict(dct_file)\n",
    "    resp = pd.read_fwf(\n",
    "        dat_file,\n",
    "        names=stata_dict.names,\n",
    "        colspecs=stata_dict.colspecs,\n",
    "        compression=\"gzip\",\n",
    "    )\n",
    "    return resp"
   ]
  },
  {
   "cell_type": "code",
   "execution_count": 8,
   "id": "36976ef7",
   "metadata": {},
   "outputs": [],
   "source": [
    "preg = read_stata(dct_file, dat_file)"
   ]
  },
  {
   "cell_type": "code",
   "execution_count": 9,
   "id": "a5d22c2b",
   "metadata": {},
   "outputs": [
    {
     "data": {
      "text/plain": [
       "(13593, 243)"
      ]
     },
     "execution_count": 9,
     "metadata": {},
     "output_type": "execute_result"
    }
   ],
   "source": [
    "preg.shape"
   ]
  },
  {
   "cell_type": "code",
   "execution_count": 10,
   "id": "1b80cf4b",
   "metadata": {},
   "outputs": [
    {
     "data": {
      "text/html": [
       "<div>\n",
       "<style scoped>\n",
       "    .dataframe tbody tr th:only-of-type {\n",
       "        vertical-align: middle;\n",
       "    }\n",
       "\n",
       "    .dataframe tbody tr th {\n",
       "        vertical-align: top;\n",
       "    }\n",
       "\n",
       "    .dataframe thead th {\n",
       "        text-align: right;\n",
       "    }\n",
       "</style>\n",
       "<table border=\"1\" class=\"dataframe\">\n",
       "  <thead>\n",
       "    <tr style=\"text-align: right;\">\n",
       "      <th></th>\n",
       "      <th>caseid</th>\n",
       "      <th>pregordr</th>\n",
       "      <th>howpreg_n</th>\n",
       "      <th>howpreg_p</th>\n",
       "      <th>moscurrp</th>\n",
       "      <th>nowprgdk</th>\n",
       "      <th>pregend1</th>\n",
       "      <th>pregend2</th>\n",
       "      <th>nbrnaliv</th>\n",
       "      <th>multbrth</th>\n",
       "      <th>...</th>\n",
       "      <th>poverty_i</th>\n",
       "      <th>laborfor_i</th>\n",
       "      <th>religion_i</th>\n",
       "      <th>metro_i</th>\n",
       "      <th>basewgt</th>\n",
       "      <th>adj_mod_basewgt</th>\n",
       "      <th>finalwgt</th>\n",
       "      <th>secu_p</th>\n",
       "      <th>sest</th>\n",
       "      <th>cmintvw</th>\n",
       "    </tr>\n",
       "  </thead>\n",
       "  <tbody>\n",
       "    <tr>\n",
       "      <th>0</th>\n",
       "      <td>1</td>\n",
       "      <td>1</td>\n",
       "      <td>NaN</td>\n",
       "      <td>NaN</td>\n",
       "      <td>NaN</td>\n",
       "      <td>NaN</td>\n",
       "      <td>6.0</td>\n",
       "      <td>NaN</td>\n",
       "      <td>1.0</td>\n",
       "      <td>NaN</td>\n",
       "      <td>...</td>\n",
       "      <td>0</td>\n",
       "      <td>0</td>\n",
       "      <td>0</td>\n",
       "      <td>0</td>\n",
       "      <td>3410.389399</td>\n",
       "      <td>3869.349602</td>\n",
       "      <td>6448.271112</td>\n",
       "      <td>2</td>\n",
       "      <td>9</td>\n",
       "      <td>1231</td>\n",
       "    </tr>\n",
       "    <tr>\n",
       "      <th>1</th>\n",
       "      <td>1</td>\n",
       "      <td>2</td>\n",
       "      <td>NaN</td>\n",
       "      <td>NaN</td>\n",
       "      <td>NaN</td>\n",
       "      <td>NaN</td>\n",
       "      <td>6.0</td>\n",
       "      <td>NaN</td>\n",
       "      <td>1.0</td>\n",
       "      <td>NaN</td>\n",
       "      <td>...</td>\n",
       "      <td>0</td>\n",
       "      <td>0</td>\n",
       "      <td>0</td>\n",
       "      <td>0</td>\n",
       "      <td>3410.389399</td>\n",
       "      <td>3869.349602</td>\n",
       "      <td>6448.271112</td>\n",
       "      <td>2</td>\n",
       "      <td>9</td>\n",
       "      <td>1231</td>\n",
       "    </tr>\n",
       "    <tr>\n",
       "      <th>2</th>\n",
       "      <td>2</td>\n",
       "      <td>1</td>\n",
       "      <td>NaN</td>\n",
       "      <td>NaN</td>\n",
       "      <td>NaN</td>\n",
       "      <td>NaN</td>\n",
       "      <td>5.0</td>\n",
       "      <td>NaN</td>\n",
       "      <td>3.0</td>\n",
       "      <td>5.0</td>\n",
       "      <td>...</td>\n",
       "      <td>0</td>\n",
       "      <td>0</td>\n",
       "      <td>0</td>\n",
       "      <td>0</td>\n",
       "      <td>7226.301740</td>\n",
       "      <td>8567.549110</td>\n",
       "      <td>12999.542264</td>\n",
       "      <td>2</td>\n",
       "      <td>12</td>\n",
       "      <td>1231</td>\n",
       "    </tr>\n",
       "    <tr>\n",
       "      <th>3</th>\n",
       "      <td>2</td>\n",
       "      <td>2</td>\n",
       "      <td>NaN</td>\n",
       "      <td>NaN</td>\n",
       "      <td>NaN</td>\n",
       "      <td>NaN</td>\n",
       "      <td>6.0</td>\n",
       "      <td>NaN</td>\n",
       "      <td>1.0</td>\n",
       "      <td>NaN</td>\n",
       "      <td>...</td>\n",
       "      <td>0</td>\n",
       "      <td>0</td>\n",
       "      <td>0</td>\n",
       "      <td>0</td>\n",
       "      <td>7226.301740</td>\n",
       "      <td>8567.549110</td>\n",
       "      <td>12999.542264</td>\n",
       "      <td>2</td>\n",
       "      <td>12</td>\n",
       "      <td>1231</td>\n",
       "    </tr>\n",
       "    <tr>\n",
       "      <th>4</th>\n",
       "      <td>2</td>\n",
       "      <td>3</td>\n",
       "      <td>NaN</td>\n",
       "      <td>NaN</td>\n",
       "      <td>NaN</td>\n",
       "      <td>NaN</td>\n",
       "      <td>6.0</td>\n",
       "      <td>NaN</td>\n",
       "      <td>1.0</td>\n",
       "      <td>NaN</td>\n",
       "      <td>...</td>\n",
       "      <td>0</td>\n",
       "      <td>0</td>\n",
       "      <td>0</td>\n",
       "      <td>0</td>\n",
       "      <td>7226.301740</td>\n",
       "      <td>8567.549110</td>\n",
       "      <td>12999.542264</td>\n",
       "      <td>2</td>\n",
       "      <td>12</td>\n",
       "      <td>1231</td>\n",
       "    </tr>\n",
       "  </tbody>\n",
       "</table>\n",
       "<p>5 rows × 243 columns</p>\n",
       "</div>"
      ],
      "text/plain": [
       "   caseid  pregordr  howpreg_n  howpreg_p  moscurrp  nowprgdk  pregend1  \\\n",
       "0       1         1        NaN        NaN       NaN       NaN       6.0   \n",
       "1       1         2        NaN        NaN       NaN       NaN       6.0   \n",
       "2       2         1        NaN        NaN       NaN       NaN       5.0   \n",
       "3       2         2        NaN        NaN       NaN       NaN       6.0   \n",
       "4       2         3        NaN        NaN       NaN       NaN       6.0   \n",
       "\n",
       "   pregend2  nbrnaliv  multbrth  ...  poverty_i  laborfor_i  religion_i  \\\n",
       "0       NaN       1.0       NaN  ...          0           0           0   \n",
       "1       NaN       1.0       NaN  ...          0           0           0   \n",
       "2       NaN       3.0       5.0  ...          0           0           0   \n",
       "3       NaN       1.0       NaN  ...          0           0           0   \n",
       "4       NaN       1.0       NaN  ...          0           0           0   \n",
       "\n",
       "   metro_i      basewgt  adj_mod_basewgt      finalwgt  secu_p  sest  cmintvw  \n",
       "0        0  3410.389399      3869.349602   6448.271112       2     9     1231  \n",
       "1        0  3410.389399      3869.349602   6448.271112       2     9     1231  \n",
       "2        0  7226.301740      8567.549110  12999.542264       2    12     1231  \n",
       "3        0  7226.301740      8567.549110  12999.542264       2    12     1231  \n",
       "4        0  7226.301740      8567.549110  12999.542264       2    12     1231  \n",
       "\n",
       "[5 rows x 243 columns]"
      ]
     },
     "execution_count": 10,
     "metadata": {},
     "output_type": "execute_result"
    }
   ],
   "source": [
    "preg.head()"
   ]
  },
  {
   "cell_type": "code",
   "execution_count": 11,
   "id": "4c45fbef",
   "metadata": {},
   "outputs": [
    {
     "data": {
      "text/plain": [
       "Index(['caseid', 'pregordr', 'howpreg_n', 'howpreg_p', 'moscurrp', 'nowprgdk',\n",
       "       'pregend1', 'pregend2', 'nbrnaliv', 'multbrth',\n",
       "       ...\n",
       "       'poverty_i', 'laborfor_i', 'religion_i', 'metro_i', 'basewgt',\n",
       "       'adj_mod_basewgt', 'finalwgt', 'secu_p', 'sest', 'cmintvw'],\n",
       "      dtype='object', length=243)"
      ]
     },
     "execution_count": 11,
     "metadata": {},
     "output_type": "execute_result"
    }
   ],
   "source": [
    "preg.columns"
   ]
  },
  {
   "cell_type": "code",
   "execution_count": 12,
   "id": "a8bf9feb",
   "metadata": {},
   "outputs": [
    {
     "data": {
      "text/plain": [
       "outcome\n",
       "1    9148\n",
       "2    1862\n",
       "3     120\n",
       "4    1921\n",
       "5     190\n",
       "6     352\n",
       "Name: count, dtype: int64"
      ]
     },
     "execution_count": 12,
     "metadata": {},
     "output_type": "execute_result"
    }
   ],
   "source": [
    "preg[\"outcome\"].value_counts().sort_index()"
   ]
  },
  {
   "attachments": {
    "image.png": {
     "image/png": "[encoded data removed]"
    }
   },
   "cell_type": "markdown",
   "id": "9e52ecb3",
   "metadata": {},
   "source": [
    "![image.png](attachment:image.png)"
   ]
  },
  {
   "cell_type": "code",
   "execution_count": 13,
   "id": "915dea83",
   "metadata": {},
   "outputs": [
    {
     "data": {
      "text/plain": [
       "birthwgt_lb\n",
       "0.0        8\n",
       "1.0       40\n",
       "2.0       53\n",
       "3.0       98\n",
       "4.0      229\n",
       "5.0      697\n",
       "6.0     2223\n",
       "7.0     3049\n",
       "8.0     1889\n",
       "9.0      623\n",
       "10.0     132\n",
       "11.0      26\n",
       "12.0      10\n",
       "13.0       3\n",
       "14.0       3\n",
       "15.0       1\n",
       "51.0       1\n",
       "97.0       1\n",
       "98.0       1\n",
       "99.0      57\n",
       "NaN     4449\n",
       "Name: count, dtype: int64"
      ]
     },
     "execution_count": 13,
     "metadata": {},
     "output_type": "execute_result"
    }
   ],
   "source": [
    "counts = preg[\"birthwgt_lb\"].value_counts(dropna=False).sort_index()\n",
    "counts"
   ]
  },
  {
   "cell_type": "code",
   "execution_count": 14,
   "metadata": {},
   "outputs": [],
   "source": [
    "# Replace > 51 lb weights to nan\n",
    "preg[\"birthwgt_lb\"] = preg[\"birthwgt_lb\"].replace([51, 97, 98, 99], np.nan)"
   ]
  },
  {
   "cell_type": "code",
   "execution_count": null,
   "id": "3625d250",
   "metadata": {},
   "outputs": [],
   "source": []
  },
  {
   "cell_type": "markdown",
   "id": "693b09fa",
   "metadata": {},
   "source": [
    "## Transformation"
   ]
  },
  {
   "cell_type": "code",
   "execution_count": 15,
   "id": "1764e74f",
   "metadata": {},
   "outputs": [
    {
     "data": {
      "text/plain": [
       "2468.8151197039497"
      ]
     },
     "execution_count": 15,
     "metadata": {},
     "output_type": "execute_result"
    }
   ],
   "source": [
    "# Mother’s age at the end of the pregnancy \n",
    "# According to the codebook, it is an integer number of centiyears (hundredths of a year)\n",
    "preg[\"agepreg\"].mean()"
   ]
  },
  {
   "cell_type": "code",
   "execution_count": 16,
   "id": "5da6e41a",
   "metadata": {},
   "outputs": [
    {
     "data": {
      "text/plain": [
       "24.6881511970395"
      ]
     },
     "execution_count": 16,
     "metadata": {},
     "output_type": "execute_result"
    }
   ],
   "source": [
    "preg[\"agepreg\"] /= 100.0\n",
    "preg[\"agepreg\"].mean()"
   ]
  },
  {
   "cell_type": "code",
   "execution_count": 17,
   "id": "9f756c14",
   "metadata": {},
   "outputs": [
    {
     "data": {
      "text/plain": [
       "birthwgt_oz\n",
       "0.0     1037\n",
       "1.0      408\n",
       "2.0      603\n",
       "3.0      533\n",
       "4.0      525\n",
       "5.0      535\n",
       "6.0      709\n",
       "7.0      501\n",
       "8.0      756\n",
       "9.0      505\n",
       "10.0     475\n",
       "11.0     557\n",
       "12.0     555\n",
       "13.0     487\n",
       "14.0     475\n",
       "15.0     378\n",
       "97.0       1\n",
       "98.0       1\n",
       "99.0      46\n",
       "NaN     4506\n",
       "Name: count, dtype: int64"
      ]
     },
     "execution_count": 17,
     "metadata": {},
     "output_type": "execute_result"
    }
   ],
   "source": [
    "preg[\"birthwgt_oz\"].value_counts(dropna=False).sort_index()"
   ]
  },
  {
   "cell_type": "code",
   "execution_count": 18,
   "id": "fda479fb",
   "metadata": {},
   "outputs": [],
   "source": [
    "preg[\"birthwgt_oz\"] = preg[\"birthwgt_oz\"].replace([97, 98, 99], np.nan)"
   ]
  },
  {
   "cell_type": "code",
   "execution_count": 19,
   "id": "ebd0613f",
   "metadata": {},
   "outputs": [
    {
     "data": {
      "text/plain": [
       "7.265628457623368"
      ]
     },
     "execution_count": 19,
     "metadata": {},
     "output_type": "execute_result"
    }
   ],
   "source": [
    "# Lbs + Ounce = Total Weight\n",
    "preg[\"totalwgt_lb\"] = preg[\"birthwgt_lb\"] + preg[\"birthwgt_oz\"] / 16.0\n",
    "preg[\"totalwgt_lb\"].mean()"
   ]
  },
  {
   "cell_type": "code",
   "execution_count": null,
   "id": "fddb3566",
   "metadata": {},
   "outputs": [],
   "source": []
  },
  {
   "cell_type": "markdown",
   "id": "2929c328",
   "metadata": {},
   "source": [
    "## Summary Statistics"
   ]
  },
  {
   "cell_type": "code",
   "execution_count": 20,
   "id": "7283d9e4",
   "metadata": {},
   "outputs": [
    {
     "data": {
      "text/plain": [
       "9038"
      ]
     },
     "execution_count": 20,
     "metadata": {},
     "output_type": "execute_result"
    }
   ],
   "source": [
    "# Count\n",
    "weights = preg[\"totalwgt_lb\"]\n",
    "n = weights.count()\n",
    "n"
   ]
  },
  {
   "cell_type": "code",
   "execution_count": 21,
   "id": "440c8103",
   "metadata": {},
   "outputs": [
    {
     "data": {
      "text/plain": [
       "7.265628457623368"
      ]
     },
     "execution_count": 21,
     "metadata": {},
     "output_type": "execute_result"
    }
   ],
   "source": [
    "# Mean\n",
    "mean = weights.sum() / n\n",
    "# OR\n",
    "weights.mean()"
   ]
  },
  {
   "cell_type": "code",
   "execution_count": 22,
   "id": "a8ef2c7a",
   "metadata": {},
   "outputs": [
    {
     "data": {
      "text/plain": [
       "1.9832904288326532"
      ]
     },
     "execution_count": 22,
     "metadata": {},
     "output_type": "execute_result"
    }
   ],
   "source": [
    "# Variance \n",
    "# Variance is a statistic that quantifies the spread of a set of values. \n",
    "# It is the mean of the squared deviations, which are the distances of each point from the mean.\n",
    "\n",
    "squared_deviations = (weights - mean) ** 2\n",
    "var = squared_deviations.sum() / n \n",
    "# OR n-1 division\n",
    "weights.var()"
   ]
  },
  {
   "cell_type": "code",
   "execution_count": 23,
   "id": "1e54e5d4",
   "metadata": {},
   "outputs": [
    {
     "data": {
      "text/plain": [
       "1.4082155338406195"
      ]
     },
     "execution_count": 23,
     "metadata": {},
     "output_type": "execute_result"
    }
   ],
   "source": [
    "# Standard Deviation\n",
    "\n",
    "std = np.sqrt(var)\n",
    "# OR \n",
    "weights.std(ddof=0)"
   ]
  },
  {
   "cell_type": "code",
   "execution_count": 24,
   "id": "7e11b0be",
   "metadata": {},
   "outputs": [
    {
     "data": {
      "image/png": "[encoded data removed]",
      "text/plain": [
       "<Figure size 640x480 with 1 Axes>"
      ]
     },
     "metadata": {},
     "output_type": "display_data"
    }
   ],
   "source": [
    "# Distribution\n",
    "sns.histplot(data=weights)\n",
    "plt.show()"
   ]
  },
  {
   "cell_type": "code",
   "execution_count": null,
   "id": "4fd38fc5",
   "metadata": {},
   "outputs": [],
   "source": []
  },
  {
   "cell_type": "markdown",
   "id": "b23ac1d6",
   "metadata": {},
   "source": [
    "## Interpretation"
   ]
  },
  {
   "cell_type": "code",
   "execution_count": 25,
   "id": "a37820bc",
   "metadata": {},
   "outputs": [
    {
     "data": {
      "text/plain": [
       "(7, 244)"
      ]
     },
     "execution_count": 25,
     "metadata": {},
     "output_type": "execute_result"
    }
   ],
   "source": [
    "subset = preg.query(\"caseid == 10229\")\n",
    "subset.shape"
   ]
  },
  {
   "cell_type": "code",
   "execution_count": 26,
   "metadata": {},
   "outputs": [
    {
     "data": {
      "text/plain": [
       "array([4, 4, 4, 4, 4, 4, 1], dtype=int64)"
      ]
     },
     "execution_count": 26,
     "metadata": {},
     "output_type": "execute_result"
    }
   ],
   "source": [
    "subset[\"outcome\"].values"
   ]
  },
  {
   "cell_type": "code",
   "execution_count": null,
   "id": "692ce2a3",
   "metadata": {},
   "outputs": [],
   "source": []
  },
  {
   "cell_type": "markdown",
   "id": "53a95db7",
   "metadata": {},
   "source": [
    "## Glossary\n",
    "\n",
    "* anecdotal evidence: Data collected informally from a small number of individual cases, often without systematic sampling.\n",
    "\n",
    "* cross-sectional study: A study that collects data from a representative sample of a population at a single point or interval in time.\n",
    "\n",
    "* cycle: One data-collection interval in a study that collects data at multiple intervals in time.\n",
    "\n",
    "* population: The entire group of individuals or items that is the subject of a study.\n",
    "\n",
    "* sample: A subset of a population, often chosen at random.\n",
    "\n",
    "* respondents: People who participate in a survey and respond to questions.\n",
    "\n",
    "* representative: A sample is representative if it is similar to the population in ways that are important for the purposes of the study.\n",
    "\n",
    "* stratified: A sample is stratified if it deliberately oversamples some groups, usually to make sure that enough members are included to support valid conclusions.\n",
    "\n",
    "* oversampled: A group is oversampled if its members have a higher chance of appearing in a sample.\n",
    "\n",
    "* variable: In survey data, a variable is a collection of responses to questions or values computed from responses.\n",
    "\n",
    "* codebook: A document that describes the variables in a dataset, and provides other information about the data.\n",
    "\n",
    "* recode: A variable that is computed based on other variables in a dataset.\n",
    "\n",
    "* raw data: Data that has not been processed after collection.\n",
    "\n",
    "* data cleaning: A process for identifying and correcting errors in a dataset, dealing with missing values, and computing recodes.\n",
    "\n",
    "* statistic: A value that describes or summarizes a property of a sample.\n",
    "\n",
    "* standard deviation: A statistic that quantifies the spread of data around the mean."
   ]
  },
  {
   "cell_type": "code",
   "execution_count": null,
   "metadata": {},
   "outputs": [],
   "source": []
  },
  {
   "cell_type": "markdown",
   "id": "16705f50",
   "metadata": {},
   "source": [
    "### 1.9.1. Exercise 1.1\n",
    "Select the birthord column from preg, print the value counts, and compare to results published in the codebook at https://ftp.cdc.gov/pub/Health_Statistics/NCHS/Dataset_Documentation/NSFG/Cycle6Codebook-Pregnancy.pdf.\n"
   ]
  },
  {
   "cell_type": "code",
   "execution_count": 27,
   "id": "cab3fb1c",
   "metadata": {},
   "outputs": [
    {
     "data": {
      "text/plain": [
       "birthord\n",
       "NaN     4445\n",
       "1.0     4413\n",
       "2.0     2874\n",
       "3.0     1234\n",
       "4.0      421\n",
       "5.0      126\n",
       "6.0       50\n",
       "7.0       20\n",
       "8.0        7\n",
       "9.0        2\n",
       "10.0       1\n",
       "Name: count, dtype: int64"
      ]
     },
     "execution_count": 27,
     "metadata": {},
     "output_type": "execute_result"
    }
   ],
   "source": [
    "preg[\"birthord\"].value_counts(dropna=False)"
   ]
  },
  {
   "cell_type": "markdown",
   "id": "dfb7f64a",
   "metadata": {},
   "source": [
    "### 1.9.2. Exercise 1.2\n",
    "Create a new column named totalwgt_kg that contains birth weight in kilograms (there are approximately 2.2 pounds per kilogram). Compute the mean and standard deviation of the new column.\n"
   ]
  },
  {
   "cell_type": "code",
   "execution_count": 28,
   "id": "a5f65c9a",
   "metadata": {},
   "outputs": [],
   "source": [
    "preg[\"totalwgt_kg\"] = preg[\"totalwgt_lb\"] / 2.2"
   ]
  },
  {
   "cell_type": "code",
   "execution_count": 29,
   "id": "c2d41eb2",
   "metadata": {},
   "outputs": [
    {
     "data": {
      "text/plain": [
       "3.302558389828803"
      ]
     },
     "execution_count": 29,
     "metadata": {},
     "output_type": "execute_result"
    }
   ],
   "source": [
    "preg.totalwgt_kg.mean()"
   ]
  },
  {
   "cell_type": "code",
   "execution_count": 30,
   "id": "14abcce6",
   "metadata": {},
   "outputs": [
    {
     "data": {
      "text/plain": [
       "0.640133384349548"
      ]
     },
     "execution_count": 30,
     "metadata": {},
     "output_type": "execute_result"
    }
   ],
   "source": [
    "preg.totalwgt_kg.std()"
   ]
  },
  {
   "cell_type": "markdown",
   "id": "b13c0b88",
   "metadata": {},
   "source": [
    "### 1.9.3. Exercise 1.3\n",
    "What are the pregnancy lengths for the respondent with caseid 2298?\n",
    "\n",
    "What was the birth weight of the first baby born to the respondent with caseid 5013? Hint: You can use and to check more than one condition in a query."
   ]
  },
  {
   "cell_type": "code",
   "execution_count": 31,
   "id": "be7873cb",
   "metadata": {},
   "outputs": [
    {
     "data": {
      "text/plain": [
       "2610    40\n",
       "2611    36\n",
       "2612    30\n",
       "2613    40\n",
       "Name: prglngth, dtype: int64"
      ]
     },
     "execution_count": 31,
     "metadata": {},
     "output_type": "execute_result"
    }
   ],
   "source": [
    "preg[preg[\"caseid\"] == 2298].prglngth"
   ]
  },
  {
   "cell_type": "code",
   "execution_count": 32,
   "id": "8c4fd45d",
   "metadata": {},
   "outputs": [
    {
     "data": {
      "text/plain": [
       "5516    29\n",
       "Name: prglngth, dtype: int64"
      ]
     },
     "execution_count": 32,
     "metadata": {},
     "output_type": "execute_result"
    }
   ],
   "source": [
    "preg[(preg[\"caseid\"] == 5013) & (preg[\"pregordr\"] == 1)].prglngth\n",
    "# OR \n",
    "preg.query(\"caseid==5013 & pregordr == 1\").prglngth"
   ]
  },
  {
   "cell_type": "code",
   "execution_count": null,
   "id": "80f68a5d",
   "metadata": {},
   "outputs": [],
   "source": []
  }
 ],
 "metadata": {
  "kernelspec": {
   "display_name": "base",
   "language": "python",
   "name": "python3"
  },
  "language_info": {
   "codemirror_mode": {
    "name": "ipython",
    "version": 3
   },
   "file_extension": ".py",
   "mimetype": "text/x-python",
   "name": "python",
   "nbconvert_exporter": "python",
   "pygments_lexer": "ipython3",
   "version": "3.9.20"
  }
 },
 "nbformat": 4,
 "nbformat_minor": 5
}
