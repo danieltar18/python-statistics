{
 "cells": [
  {
   "cell_type": "markdown",
   "id": "53b87ddc",
   "metadata": {},
   "source": [
    "# Probability Mass Functions\n",
    "\n",
    "To represent a PMF, we’ll use an object called a Pmf, which contains a set of values and their probabilities. We’ll use Pmf objects to compute the mean and variance of a distribution, and the skewness, which indicates whether it is skewed to the left or right. Finally, we will explore how a phenomenon called the “inspection paradox” can cause a sample to give a biased view of a distribution.\n",
    "\n",
    "\n",
    "https://allendowney.github.io/ThinkStats/chap03.html"
   ]
  },
  {
   "cell_type": "code",
   "execution_count": 1,
   "id": "ebdb9506",
   "metadata": {},
   "outputs": [],
   "source": [
    "import numpy as np\n",
    "import pandas as pd\n",
    "import matplotlib.pyplot as plt\n",
    "\n",
    "from empiricaldist import FreqTab\n",
    "from empiricaldist import Pmf"
   ]
  },
  {
   "cell_type": "code",
   "execution_count": 2,
   "id": "4481d255",
   "metadata": {},
   "outputs": [
    {
     "data": {
      "text/html": [
       "<div>\n",
       "<style scoped>\n",
       "    .dataframe tbody tr th:only-of-type {\n",
       "        vertical-align: middle;\n",
       "    }\n",
       "\n",
       "    .dataframe tbody tr th {\n",
       "        vertical-align: top;\n",
       "    }\n",
       "\n",
       "    .dataframe thead th {\n",
       "        text-align: right;\n",
       "    }\n",
       "</style>\n",
       "<table border=\"1\" class=\"dataframe\">\n",
       "  <thead>\n",
       "    <tr style=\"text-align: right;\">\n",
       "      <th></th>\n",
       "      <th>freqs</th>\n",
       "    </tr>\n",
       "  </thead>\n",
       "  <tbody>\n",
       "    <tr>\n",
       "      <th>1</th>\n",
       "      <td>1</td>\n",
       "    </tr>\n",
       "    <tr>\n",
       "      <th>2</th>\n",
       "      <td>2</td>\n",
       "    </tr>\n",
       "    <tr>\n",
       "      <th>3</th>\n",
       "      <td>1</td>\n",
       "    </tr>\n",
       "    <tr>\n",
       "      <th>5</th>\n",
       "      <td>1</td>\n",
       "    </tr>\n",
       "  </tbody>\n",
       "</table>\n",
       "</div>"
      ],
      "text/plain": [
       "1    1\n",
       "2    2\n",
       "3    1\n",
       "5    1\n",
       "Name: , dtype: int64"
      ]
     },
     "execution_count": 2,
     "metadata": {},
     "output_type": "execute_result"
    }
   ],
   "source": [
    "ftab = FreqTab.from_seq([1, 2, 2, 3, 5])\n",
    "ftab"
   ]
  },
  {
   "cell_type": "code",
   "execution_count": 3,
   "id": "f570decd",
   "metadata": {},
   "outputs": [
    {
     "data": {
      "text/html": [
       "<div>\n",
       "<style scoped>\n",
       "    .dataframe tbody tr th:only-of-type {\n",
       "        vertical-align: middle;\n",
       "    }\n",
       "\n",
       "    .dataframe tbody tr th {\n",
       "        vertical-align: top;\n",
       "    }\n",
       "\n",
       "    .dataframe thead th {\n",
       "        text-align: right;\n",
       "    }\n",
       "</style>\n",
       "<table border=\"1\" class=\"dataframe\">\n",
       "  <thead>\n",
       "    <tr style=\"text-align: right;\">\n",
       "      <th></th>\n",
       "      <th>probs</th>\n",
       "    </tr>\n",
       "  </thead>\n",
       "  <tbody>\n",
       "    <tr>\n",
       "      <th>1</th>\n",
       "      <td>0.2</td>\n",
       "    </tr>\n",
       "    <tr>\n",
       "      <th>2</th>\n",
       "      <td>0.4</td>\n",
       "    </tr>\n",
       "    <tr>\n",
       "      <th>3</th>\n",
       "      <td>0.2</td>\n",
       "    </tr>\n",
       "    <tr>\n",
       "      <th>5</th>\n",
       "      <td>0.2</td>\n",
       "    </tr>\n",
       "  </tbody>\n",
       "</table>\n",
       "</div>"
      ],
      "text/plain": [
       "1    0.2\n",
       "2    0.4\n",
       "3    0.2\n",
       "5    0.2\n",
       "Name: , dtype: float64"
      ]
     },
     "execution_count": 3,
     "metadata": {},
     "output_type": "execute_result"
    }
   ],
   "source": [
    "pmf = ftab/ftab.sum()\n",
    "pmf"
   ]
  },
  {
   "cell_type": "markdown",
   "id": "ede5cb41",
   "metadata": {},
   "source": [
    "This result indicates that 20% of the values in the sequence are 1, 40% are 2, and so on.\n",
    "\n",
    "We can also think of these proportions as probabilities in the following sense: \n",
    "if we choose a random value from the original sequence, the probability we choose the value 1 is 0.2, the probability we choose the value 2 is 0.4, and so on.\n",
    "\n",
    "Because we divided through by n, the sum of the probabilities is 1, which means that this distribution is **normalized**."
   ]
  },
  {
   "cell_type": "markdown",
   "id": "c33428c0",
   "metadata": {},
   "source": [
    "A normalized FreqTab object represents a probability mass function (PMF), so-called because probabilities associated with discrete values are also called “probability masses”."
   ]
  },
  {
   "cell_type": "code",
   "execution_count": 4,
   "id": "b4da118d",
   "metadata": {},
   "outputs": [
    {
     "data": {
      "text/html": [
       "<div>\n",
       "<style scoped>\n",
       "    .dataframe tbody tr th:only-of-type {\n",
       "        vertical-align: middle;\n",
       "    }\n",
       "\n",
       "    .dataframe tbody tr th {\n",
       "        vertical-align: top;\n",
       "    }\n",
       "\n",
       "    .dataframe thead th {\n",
       "        text-align: right;\n",
       "    }\n",
       "</style>\n",
       "<table border=\"1\" class=\"dataframe\">\n",
       "  <thead>\n",
       "    <tr style=\"text-align: right;\">\n",
       "      <th></th>\n",
       "      <th>probs</th>\n",
       "    </tr>\n",
       "  </thead>\n",
       "  <tbody>\n",
       "    <tr>\n",
       "      <th>1</th>\n",
       "      <td>0.2</td>\n",
       "    </tr>\n",
       "    <tr>\n",
       "      <th>2</th>\n",
       "      <td>0.4</td>\n",
       "    </tr>\n",
       "    <tr>\n",
       "      <th>3</th>\n",
       "      <td>0.2</td>\n",
       "    </tr>\n",
       "    <tr>\n",
       "      <th>5</th>\n",
       "      <td>0.2</td>\n",
       "    </tr>\n",
       "  </tbody>\n",
       "</table>\n",
       "</div>"
      ],
      "text/plain": [
       "1    0.2\n",
       "2    0.4\n",
       "3    0.2\n",
       "5    0.2\n",
       "Name: , dtype: float64"
      ]
     },
     "execution_count": 4,
     "metadata": {},
     "output_type": "execute_result"
    }
   ],
   "source": [
    "pmf = Pmf.from_seq([1, 2, 2, 3, 5])\n",
    "pmf"
   ]
  },
  {
   "cell_type": "code",
   "execution_count": 5,
   "id": "49d602e5",
   "metadata": {},
   "outputs": [
    {
     "data": {
      "text/plain": [
       "0.2"
      ]
     },
     "execution_count": 5,
     "metadata": {},
     "output_type": "execute_result"
    }
   ],
   "source": [
    "# Lookup\n",
    "pmf(1)\n",
    "# OR\n",
    "pmf[1]"
   ]
  },
  {
   "cell_type": "code",
   "execution_count": 6,
   "id": "a9a82067",
   "metadata": {},
   "outputs": [
    {
     "data": {
      "image/png": "[encoded data removed]",
      "text/plain": [
       "<Figure size 640x480 with 1 Axes>"
      ]
     },
     "metadata": {},
     "output_type": "display_data"
    }
   ],
   "source": [
    "# Bar Chart works as well\n",
    "pmf.bar()"
   ]
  },
  {
   "cell_type": "code",
   "execution_count": 7,
   "id": "5dedf702",
   "metadata": {},
   "outputs": [],
   "source": [
    "seq = [1, 2, 2, 3, 5]\n",
    "pmf = Pmf.from_seq(seq)"
   ]
  },
  {
   "cell_type": "code",
   "execution_count": 8,
   "id": "d44b83e3",
   "metadata": {},
   "outputs": [
    {
     "data": {
      "text/plain": [
       "array([0.2, 0.4, 0.2, 0.2])"
      ]
     },
     "execution_count": 8,
     "metadata": {},
     "output_type": "execute_result"
    }
   ],
   "source": [
    "pmf.ps"
   ]
  },
  {
   "cell_type": "code",
   "execution_count": 9,
   "id": "658c4478",
   "metadata": {},
   "outputs": [
    {
     "data": {
      "text/plain": [
       "array([1, 2, 3, 5], dtype=int64)"
      ]
     },
     "execution_count": 9,
     "metadata": {},
     "output_type": "execute_result"
    }
   ],
   "source": [
    "pmf.qs"
   ]
  },
  {
   "cell_type": "code",
   "execution_count": 10,
   "id": "ce1f0d1b",
   "metadata": {},
   "outputs": [
    {
     "data": {
      "text/plain": [
       "2.6"
      ]
     },
     "execution_count": 10,
     "metadata": {},
     "output_type": "execute_result"
    }
   ],
   "source": [
    "# Calc mean\n",
    "mean = np.sum(pmf.ps * pmf.qs)\n",
    "# OR\n",
    "pmf.mean()"
   ]
  },
  {
   "cell_type": "code",
   "execution_count": 11,
   "id": "ae069787",
   "metadata": {},
   "outputs": [
    {
     "data": {
      "text/plain": [
       "1.84"
      ]
     },
     "execution_count": 11,
     "metadata": {},
     "output_type": "execute_result"
    }
   ],
   "source": [
    "# Calc Variance\n",
    "deviations = pmf.qs - mean\n",
    "var = np.sum(pmf.ps * deviations**2)\n",
    "# OR \n",
    "pmf.var()"
   ]
  },
  {
   "cell_type": "code",
   "execution_count": 12,
   "id": "70f15432",
   "metadata": {},
   "outputs": [
    {
     "data": {
      "text/plain": [
       "1.3564659966250536"
      ]
     },
     "execution_count": 12,
     "metadata": {},
     "output_type": "execute_result"
    }
   ],
   "source": [
    "# Calc STD\n",
    "np.sqrt(var)\n",
    "# OR \n",
    "pmf.std()"
   ]
  },
  {
   "cell_type": "code",
   "execution_count": null,
   "id": "556f3d2a",
   "metadata": {},
   "outputs": [],
   "source": []
  },
  {
   "cell_type": "markdown",
   "id": "c3fa45b5",
   "metadata": {},
   "source": [
    "## Class Size Paradox\n",
    "\n",
    "As an example of what we can do with Pmf objects, let’s consider a phenomenon I call “the class size paradox.”\n",
    "\n",
    "At many American colleges and universities, the student-to-faculty ratio is about 10:1. But students are often surprised that many of their classes have more than 10 students, sometimes a lot more. There are two reasons for the discrepancy:\n",
    "\n",
    "* Students typically take 4 or 5 classes per semester, but professors often teach 1 or 2.\n",
    "\n",
    "* The number of students in a small class is small, and the number of students in a large class is large.\n",
    "\n",
    "The first effect is obvious, at least once it is pointed out; the second is more subtle. Let’s look at an example. Suppose that a college offers 65 classes in a given semester, and we are given the number of classes in each of the following size ranges."
   ]
  },
  {
   "cell_type": "code",
   "execution_count": 13,
   "id": "9578c550",
   "metadata": {},
   "outputs": [
    {
     "data": {
      "text/html": [
       "<div>\n",
       "<style scoped>\n",
       "    .dataframe tbody tr th:only-of-type {\n",
       "        vertical-align: middle;\n",
       "    }\n",
       "\n",
       "    .dataframe tbody tr th {\n",
       "        vertical-align: top;\n",
       "    }\n",
       "\n",
       "    .dataframe thead th {\n",
       "        text-align: right;\n",
       "    }\n",
       "</style>\n",
       "<table border=\"1\" class=\"dataframe\">\n",
       "  <thead>\n",
       "    <tr style=\"text-align: right;\">\n",
       "      <th></th>\n",
       "      <th>count</th>\n",
       "    </tr>\n",
       "    <tr>\n",
       "      <th>class size</th>\n",
       "      <th></th>\n",
       "    </tr>\n",
       "  </thead>\n",
       "  <tbody>\n",
       "    <tr>\n",
       "      <th>[5, 10)</th>\n",
       "      <td>8</td>\n",
       "    </tr>\n",
       "    <tr>\n",
       "      <th>[10, 15)</th>\n",
       "      <td>8</td>\n",
       "    </tr>\n",
       "    <tr>\n",
       "      <th>[15, 20)</th>\n",
       "      <td>14</td>\n",
       "    </tr>\n",
       "    <tr>\n",
       "      <th>[20, 25)</th>\n",
       "      <td>4</td>\n",
       "    </tr>\n",
       "    <tr>\n",
       "      <th>[25, 30)</th>\n",
       "      <td>6</td>\n",
       "    </tr>\n",
       "    <tr>\n",
       "      <th>[30, 35)</th>\n",
       "      <td>12</td>\n",
       "    </tr>\n",
       "    <tr>\n",
       "      <th>[35, 40)</th>\n",
       "      <td>8</td>\n",
       "    </tr>\n",
       "    <tr>\n",
       "      <th>[40, 45)</th>\n",
       "      <td>3</td>\n",
       "    </tr>\n",
       "    <tr>\n",
       "      <th>[45, 50)</th>\n",
       "      <td>2</td>\n",
       "    </tr>\n",
       "  </tbody>\n",
       "</table>\n",
       "</div>"
      ],
      "text/plain": [
       "            count\n",
       "class size       \n",
       "[5, 10)         8\n",
       "[10, 15)        8\n",
       "[15, 20)       14\n",
       "[20, 25)        4\n",
       "[25, 30)        6\n",
       "[30, 35)       12\n",
       "[35, 40)        8\n",
       "[40, 45)        3\n",
       "[45, 50)        2"
      ]
     },
     "execution_count": 13,
     "metadata": {},
     "output_type": "execute_result"
    }
   ],
   "source": [
    "ranges = pd.interval_range(start=5, end=50, freq=5, closed=\"left\")\n",
    "ranges.name = \"class size\"\n",
    "\n",
    "data = pd.DataFrame(index=ranges)\n",
    "data[\"count\"] = [8, 8, 14, 4, 6, 12, 8, 3, 2]\n",
    "data"
   ]
  },
  {
   "cell_type": "code",
   "execution_count": 14,
   "id": "5e93bbbc",
   "metadata": {},
   "outputs": [
    {
     "data": {
      "text/plain": [
       "Index([7, 12, 17, 22, 27, 32, 37, 42, 47], dtype='int64')"
      ]
     },
     "execution_count": 14,
     "metadata": {},
     "output_type": "execute_result"
    }
   ],
   "source": [
    "# Since we don’t know the sizes of the classes in each interval, let’s assume that all sizes are at the midpoint of the range.\n",
    "sizes = ranges.left + 2\n",
    "sizes"
   ]
  },
  {
   "cell_type": "code",
   "execution_count": 15,
   "id": "3a21c662",
   "metadata": {},
   "outputs": [
    {
     "data": {
      "text/plain": [
       "65"
      ]
     },
     "execution_count": 15,
     "metadata": {},
     "output_type": "execute_result"
    }
   ],
   "source": [
    "counts = data[\"count\"]\n",
    "actual_pmf = Pmf(counts, sizes, name=\"actual\")\n",
    "actual_pmf.normalize()"
   ]
  },
  {
   "cell_type": "code",
   "execution_count": 16,
   "id": "8f477ba4",
   "metadata": {},
   "outputs": [
    {
     "data": {
      "text/plain": [
       "23.692307692307693"
      ]
     },
     "execution_count": 16,
     "metadata": {},
     "output_type": "execute_result"
    }
   ],
   "source": [
    "actual_pmf.mean()"
   ]
  },
  {
   "cell_type": "code",
   "execution_count": 17,
   "id": "e96b58ed",
   "metadata": {},
   "outputs": [],
   "source": [
    "def bias(pmf, name):\n",
    "    # multiply each probability by class size\n",
    "    ps = pmf.ps * pmf.qs\n",
    "\n",
    "    # make a new Pmf and normalize it\n",
    "    new_pmf = Pmf(ps, pmf.qs, name=name)\n",
    "    new_pmf.normalize()\n",
    "    return new_pmf"
   ]
  },
  {
   "cell_type": "code",
   "execution_count": 18,
   "id": "1f24a3e5",
   "metadata": {},
   "outputs": [],
   "source": [
    "# Prob will be different, because of biased counts/probs\n",
    "observed_pmf = bias(actual_pmf, name=\"observed\")"
   ]
  },
  {
   "cell_type": "code",
   "execution_count": 19,
   "id": "30abcc55",
   "metadata": {},
   "outputs": [],
   "source": [
    "def two_bar_plots(ftab1, ftab2, label_1=\"Label 1\", label_2=\"Label 2\", width=0.45):\n",
    "    ftab1.bar(align=\"edge\", width=-width, label=label_1)\n",
    "    ftab2.bar(align=\"edge\", width=width, alpha=0.5, label=label_2)"
   ]
  },
  {
   "cell_type": "code",
   "execution_count": 20,
   "id": "e5074b02",
   "metadata": {},
   "outputs": [
    {
     "data": {
      "image/png": "[encoded data removed]",
      "text/plain": [
       "<Figure size 640x480 with 1 Axes>"
      ]
     },
     "metadata": {},
     "output_type": "display_data"
    }
   ],
   "source": [
    "plt.title(\"PMF - Actual vs. Observed\")\n",
    "two_bar_plots(actual_pmf, observed_pmf, label_1=\"Actual\", label_2=\"Observed\", width=2)\n",
    "\n",
    "plt.xlabel(\"Weeks\")\n",
    "plt.ylabel(\"PMF\")\n",
    "plt.legend()\n",
    "plt.show()"
   ]
  },
  {
   "cell_type": "code",
   "execution_count": 21,
   "id": "3df795b3",
   "metadata": {},
   "outputs": [
    {
     "data": {
      "text/plain": [
       "29.123376623376622"
      ]
     },
     "execution_count": 21,
     "metadata": {},
     "output_type": "execute_result"
    }
   ],
   "source": [
    "observed_pmf.mean()"
   ]
  },
  {
   "cell_type": "code",
   "execution_count": 22,
   "id": "29d9854d",
   "metadata": {},
   "outputs": [],
   "source": [
    "def unbias(pmf, name):\n",
    "    # divide each probability by class size\n",
    "    ps = pmf.ps / pmf.qs\n",
    "\n",
    "    new_pmf = Pmf(ps, pmf.qs, name=name)\n",
    "    new_pmf.normalize()\n",
    "    return new_pmf"
   ]
  },
  {
   "cell_type": "code",
   "execution_count": 23,
   "id": "fd960f6e",
   "metadata": {},
   "outputs": [
    {
     "data": {
      "text/plain": [
       "23.692307692307693"
      ]
     },
     "execution_count": 23,
     "metadata": {},
     "output_type": "execute_result"
    }
   ],
   "source": [
    "debiased_pmf = unbias(observed_pmf, \"debiased\")\n",
    "debiased_pmf.mean()"
   ]
  },
  {
   "cell_type": "code",
   "execution_count": null,
   "id": "15313137",
   "metadata": {},
   "outputs": [],
   "source": []
  },
  {
   "cell_type": "markdown",
   "id": "7da6a8bb",
   "metadata": {},
   "source": [
    "## NSFG\n",
    "\n",
    "In the previous chapter, we plotted frequency tables of pregnancy lengths for first babies and others. But the sizes of the groups are not the same, so we can’t compare the frequency tables directly. Because PMFs are **normalized**, we can **compare** them. So let’s load the NSFG data again and make Pmf objects to represent distributions of pregnancy lengths."
   ]
  },
  {
   "cell_type": "code",
   "execution_count": 24,
   "id": "8274c920",
   "metadata": {},
   "outputs": [],
   "source": [
    "from nsfg import get_nsfg_groups\n",
    "\n",
    "live, firsts, others = get_nsfg_groups()"
   ]
  },
  {
   "cell_type": "code",
   "execution_count": 25,
   "id": "406e12ff",
   "metadata": {},
   "outputs": [],
   "source": [
    "first_pmf = Pmf.from_seq(firsts[\"prglngth\"], name=\"firsts\")\n",
    "other_pmf = Pmf.from_seq(others[\"prglngth\"], name=\"others\")"
   ]
  },
  {
   "cell_type": "code",
   "execution_count": null,
   "metadata": {},
   "outputs": [
    {
     "data": {
      "image/png": "[encoded data removed]",
      "text/plain": [
       "<Figure size 640x480 with 1 Axes>"
      ]
     },
     "metadata": {},
     "output_type": "display_data"
    }
   ],
   "source": [
    "plt.title(\"PMF - First vs. Other\")\n",
    "two_bar_plots(first_pmf, other_pmf, label_1=\"Firsts\", label_2=\"Others\")\n",
    "\n",
    "plt.xlabel(\"Weeks\")\n",
    "plt.ylabel(\"Probability\")\n",
    "plt.xlim(20, 50)\n",
    "plt.legend()\n",
    "plt.show()"
   ]
  },
  {
   "cell_type": "markdown",
   "id": "379c3c3e",
   "metadata": {},
   "source": [
    "Based on this figure, first babies seem to be less likely than others to arrive on time (week 39) \n",
    "and more likely to be late (weeks 41 and 42)."
   ]
  },
  {
   "cell_type": "code",
   "execution_count": null,
   "id": "c4e1a17e",
   "metadata": {},
   "outputs": [],
   "source": []
  },
  {
   "cell_type": "markdown",
   "id": "a936ff1c",
   "metadata": {},
   "source": [
    "## Other Visualizations"
   ]
  },
  {
   "cell_type": "code",
   "execution_count": 35,
   "id": "3919cb4d",
   "metadata": {},
   "outputs": [
    {
     "data": {
      "text/plain": [
       "array([0.03602991, 0.03897575, 0.04713347, 0.06163608, 0.4790392 ,\n",
       "       0.12145932, 0.08157716, 0.04645366, 0.01971448, 0.00521187,\n",
       "       0.00135962])"
      ]
     },
     "execution_count": 35,
     "metadata": {},
     "output_type": "execute_result"
    }
   ],
   "source": [
    "weeks = range(35, 46)\n",
    "first_pmf(weeks)"
   ]
  },
  {
   "cell_type": "code",
   "execution_count": 36,
   "id": "ac20fde4",
   "metadata": {},
   "outputs": [
    {
     "data": {
      "text/plain": [
       "array([0.03210137, 0.03146779, 0.05216473, 0.07074974, 0.54466737,\n",
       "       0.12249208, 0.04794087, 0.02597677, 0.01288279, 0.00485744,\n",
       "       0.00084477])"
      ]
     },
     "execution_count": 36,
     "metadata": {},
     "output_type": "execute_result"
    }
   ],
   "source": [
    "other_pmf(weeks)"
   ]
  },
  {
   "cell_type": "code",
   "execution_count": 38,
   "metadata": {},
   "outputs": [
    {
     "data": {
      "text/plain": [
       "array([ 0.00392854,  0.00750796, -0.00503126, -0.00911366, -0.06562817,\n",
       "       -0.00103276,  0.03363629,  0.02047689,  0.00683169,  0.00035443,\n",
       "        0.00051485])"
      ]
     },
     "execution_count": 38,
     "metadata": {},
     "output_type": "execute_result"
    }
   ],
   "source": [
    "diffs = first_pmf(weeks) - other_pmf(weeks)\n",
    "diffs"
   ]
  },
  {
   "cell_type": "code",
   "execution_count": 42,
   "id": "edc55b43",
   "metadata": {},
   "outputs": [
    {
     "data": {
      "image/png": "[encoded data removed]",
      "text/plain": [
       "<Figure size 640x480 with 1 Axes>"
      ]
     },
     "metadata": {},
     "output_type": "display_data"
    }
   ],
   "source": [
    "plt.title(\"Differences in probability - First - Other\")\n",
    "plt.bar(weeks, diffs * 100)\n",
    "plt.xlabel(\"Weeks\")\n",
    "plt.ylabel(\"Difference (pct points)\")\n",
    "plt.show()"
   ]
  },
  {
   "cell_type": "markdown",
   "id": "dde5f1eb",
   "metadata": {},
   "source": [
    "This figure makes the pattern clearer: first babies are less likely to be born in week 39, and somewhat more likely to be born in weeks 41 and 42."
   ]
  },
  {
   "cell_type": "code",
   "execution_count": null,
   "id": "dd1fdefc",
   "metadata": {},
   "outputs": [],
   "source": []
  },
  {
   "cell_type": "markdown",
   "id": "7e65d2b4",
   "metadata": {},
   "source": [
    "## Glossary\n",
    "\n",
    "* normalized: A set of probabilities are normalized if they add up to 1.\n",
    "\n",
    "* probability mass function (PMF): A function that represents a distribution by mapping each quantity to its probability."
   ]
  },
  {
   "cell_type": "code",
   "execution_count": null,
   "id": "5d8b2743",
   "metadata": {},
   "outputs": [],
   "source": []
  },
  {
   "cell_type": "markdown",
   "id": "03dd2c0b",
   "metadata": {},
   "source": [
    "## Exercises"
   ]
  },
  {
   "cell_type": "code",
   "execution_count": 52,
   "id": "c65617ea",
   "metadata": {},
   "outputs": [
    {
     "data": {
      "text/plain": [
       "(7643, 3092)"
      ]
     },
     "execution_count": 52,
     "metadata": {},
     "output_type": "execute_result"
    }
   ],
   "source": [
    "from nsfg import read_fem_resp\n",
    "\n",
    "resp = read_fem_resp()\n",
    "resp.shape"
   ]
  },
  {
   "cell_type": "markdown",
   "id": "8caa061d",
   "metadata": {},
   "source": [
    "### Exercise 3.1\n",
    "\n",
    "Select the column ```numbabes```, which records the “number of babies born alive” to each respondent. Make a FreqTab object and display the frequencies of the values in this column. Check that they are consistent with the frequencies in the code book. Are there any special values that should be replaced with NaN?\n",
    "\n",
    "Then make a Pmf object and plot it as a bar graph. Is the distribution symmetric, skewed to the left, or skewed to the right?"
   ]
  },
  {
   "cell_type": "code",
   "execution_count": 53,
   "id": "66a35c44",
   "metadata": {},
   "outputs": [
    {
     "data": {
      "text/html": [
       "<div>\n",
       "<style scoped>\n",
       "    .dataframe tbody tr th:only-of-type {\n",
       "        vertical-align: middle;\n",
       "    }\n",
       "\n",
       "    .dataframe tbody tr th {\n",
       "        vertical-align: top;\n",
       "    }\n",
       "\n",
       "    .dataframe thead th {\n",
       "        text-align: right;\n",
       "    }\n",
       "</style>\n",
       "<table border=\"1\" class=\"dataframe\">\n",
       "  <thead>\n",
       "    <tr style=\"text-align: right;\">\n",
       "      <th></th>\n",
       "      <th>freqs</th>\n",
       "    </tr>\n",
       "    <tr>\n",
       "      <th>numbabes</th>\n",
       "      <th></th>\n",
       "    </tr>\n",
       "  </thead>\n",
       "  <tbody>\n",
       "    <tr>\n",
       "      <th>0</th>\n",
       "      <td>3229</td>\n",
       "    </tr>\n",
       "    <tr>\n",
       "      <th>1</th>\n",
       "      <td>1519</td>\n",
       "    </tr>\n",
       "    <tr>\n",
       "      <th>2</th>\n",
       "      <td>1603</td>\n",
       "    </tr>\n",
       "    <tr>\n",
       "      <th>3</th>\n",
       "      <td>828</td>\n",
       "    </tr>\n",
       "    <tr>\n",
       "      <th>4</th>\n",
       "      <td>309</td>\n",
       "    </tr>\n",
       "    <tr>\n",
       "      <th>5</th>\n",
       "      <td>95</td>\n",
       "    </tr>\n",
       "    <tr>\n",
       "      <th>6</th>\n",
       "      <td>29</td>\n",
       "    </tr>\n",
       "    <tr>\n",
       "      <th>7</th>\n",
       "      <td>15</td>\n",
       "    </tr>\n",
       "    <tr>\n",
       "      <th>8</th>\n",
       "      <td>8</td>\n",
       "    </tr>\n",
       "    <tr>\n",
       "      <th>9</th>\n",
       "      <td>2</td>\n",
       "    </tr>\n",
       "    <tr>\n",
       "      <th>10</th>\n",
       "      <td>3</td>\n",
       "    </tr>\n",
       "    <tr>\n",
       "      <th>16</th>\n",
       "      <td>1</td>\n",
       "    </tr>\n",
       "    <tr>\n",
       "      <th>22</th>\n",
       "      <td>1</td>\n",
       "    </tr>\n",
       "    <tr>\n",
       "      <th>97</th>\n",
       "      <td>1</td>\n",
       "    </tr>\n",
       "  </tbody>\n",
       "</table>\n",
       "</div>"
      ],
      "text/plain": [
       "numbabes\n",
       "0     3229\n",
       "1     1519\n",
       "2     1603\n",
       "3      828\n",
       "4      309\n",
       "5       95\n",
       "6       29\n",
       "7       15\n",
       "8        8\n",
       "9        2\n",
       "10       3\n",
       "16       1\n",
       "22       1\n",
       "97       1\n",
       "Name: , dtype: int64"
      ]
     },
     "execution_count": 53,
     "metadata": {},
     "output_type": "execute_result"
    }
   ],
   "source": [
    "ftab = FreqTab.from_seq(resp.numbabes)\n",
    "ftab"
   ]
  },
  {
   "cell_type": "code",
   "execution_count": 57,
   "id": "143d7ef5",
   "metadata": {},
   "outputs": [],
   "source": [
    "# 22 could be possible, but 97 seems a little bit too extreme, replace with NaN\n",
    "\n",
    "resp.numbabes = resp.numbabes.replace(97, np.nan)"
   ]
  },
  {
   "cell_type": "code",
   "execution_count": 58,
   "id": "1277154d",
   "metadata": {},
   "outputs": [
    {
     "data": {
      "text/html": [
       "<div>\n",
       "<style scoped>\n",
       "    .dataframe tbody tr th:only-of-type {\n",
       "        vertical-align: middle;\n",
       "    }\n",
       "\n",
       "    .dataframe tbody tr th {\n",
       "        vertical-align: top;\n",
       "    }\n",
       "\n",
       "    .dataframe thead th {\n",
       "        text-align: right;\n",
       "    }\n",
       "</style>\n",
       "<table border=\"1\" class=\"dataframe\">\n",
       "  <thead>\n",
       "    <tr style=\"text-align: right;\">\n",
       "      <th></th>\n",
       "      <th>freqs</th>\n",
       "    </tr>\n",
       "    <tr>\n",
       "      <th>numbabes</th>\n",
       "      <th></th>\n",
       "    </tr>\n",
       "  </thead>\n",
       "  <tbody>\n",
       "    <tr>\n",
       "      <th>0.0</th>\n",
       "      <td>3229</td>\n",
       "    </tr>\n",
       "    <tr>\n",
       "      <th>1.0</th>\n",
       "      <td>1519</td>\n",
       "    </tr>\n",
       "    <tr>\n",
       "      <th>2.0</th>\n",
       "      <td>1603</td>\n",
       "    </tr>\n",
       "    <tr>\n",
       "      <th>3.0</th>\n",
       "      <td>828</td>\n",
       "    </tr>\n",
       "    <tr>\n",
       "      <th>4.0</th>\n",
       "      <td>309</td>\n",
       "    </tr>\n",
       "    <tr>\n",
       "      <th>5.0</th>\n",
       "      <td>95</td>\n",
       "    </tr>\n",
       "    <tr>\n",
       "      <th>6.0</th>\n",
       "      <td>29</td>\n",
       "    </tr>\n",
       "    <tr>\n",
       "      <th>7.0</th>\n",
       "      <td>15</td>\n",
       "    </tr>\n",
       "    <tr>\n",
       "      <th>8.0</th>\n",
       "      <td>8</td>\n",
       "    </tr>\n",
       "    <tr>\n",
       "      <th>9.0</th>\n",
       "      <td>2</td>\n",
       "    </tr>\n",
       "    <tr>\n",
       "      <th>10.0</th>\n",
       "      <td>3</td>\n",
       "    </tr>\n",
       "    <tr>\n",
       "      <th>16.0</th>\n",
       "      <td>1</td>\n",
       "    </tr>\n",
       "    <tr>\n",
       "      <th>22.0</th>\n",
       "      <td>1</td>\n",
       "    </tr>\n",
       "  </tbody>\n",
       "</table>\n",
       "</div>"
      ],
      "text/plain": [
       "numbabes\n",
       "0.0     3229\n",
       "1.0     1519\n",
       "2.0     1603\n",
       "3.0      828\n",
       "4.0      309\n",
       "5.0       95\n",
       "6.0       29\n",
       "7.0       15\n",
       "8.0        8\n",
       "9.0        2\n",
       "10.0       3\n",
       "16.0       1\n",
       "22.0       1\n",
       "Name: , dtype: int64"
      ]
     },
     "execution_count": 58,
     "metadata": {},
     "output_type": "execute_result"
    }
   ],
   "source": [
    "ftab = FreqTab.from_seq(resp.numbabes)\n",
    "ftab"
   ]
  },
  {
   "cell_type": "code",
   "execution_count": 59,
   "id": "3dba5862",
   "metadata": {},
   "outputs": [
    {
     "data": {
      "text/html": [
       "<div>\n",
       "<style scoped>\n",
       "    .dataframe tbody tr th:only-of-type {\n",
       "        vertical-align: middle;\n",
       "    }\n",
       "\n",
       "    .dataframe tbody tr th {\n",
       "        vertical-align: top;\n",
       "    }\n",
       "\n",
       "    .dataframe thead th {\n",
       "        text-align: right;\n",
       "    }\n",
       "</style>\n",
       "<table border=\"1\" class=\"dataframe\">\n",
       "  <thead>\n",
       "    <tr style=\"text-align: right;\">\n",
       "      <th></th>\n",
       "      <th>probs</th>\n",
       "    </tr>\n",
       "    <tr>\n",
       "      <th>numbabes</th>\n",
       "      <th></th>\n",
       "    </tr>\n",
       "  </thead>\n",
       "  <tbody>\n",
       "    <tr>\n",
       "      <th>0.0</th>\n",
       "      <td>0.422533</td>\n",
       "    </tr>\n",
       "    <tr>\n",
       "      <th>1.0</th>\n",
       "      <td>0.198770</td>\n",
       "    </tr>\n",
       "    <tr>\n",
       "      <th>2.0</th>\n",
       "      <td>0.209762</td>\n",
       "    </tr>\n",
       "    <tr>\n",
       "      <th>3.0</th>\n",
       "      <td>0.108349</td>\n",
       "    </tr>\n",
       "    <tr>\n",
       "      <th>4.0</th>\n",
       "      <td>0.040434</td>\n",
       "    </tr>\n",
       "    <tr>\n",
       "      <th>5.0</th>\n",
       "      <td>0.012431</td>\n",
       "    </tr>\n",
       "    <tr>\n",
       "      <th>6.0</th>\n",
       "      <td>0.003795</td>\n",
       "    </tr>\n",
       "    <tr>\n",
       "      <th>7.0</th>\n",
       "      <td>0.001963</td>\n",
       "    </tr>\n",
       "    <tr>\n",
       "      <th>8.0</th>\n",
       "      <td>0.001047</td>\n",
       "    </tr>\n",
       "    <tr>\n",
       "      <th>9.0</th>\n",
       "      <td>0.000262</td>\n",
       "    </tr>\n",
       "    <tr>\n",
       "      <th>10.0</th>\n",
       "      <td>0.000393</td>\n",
       "    </tr>\n",
       "    <tr>\n",
       "      <th>16.0</th>\n",
       "      <td>0.000131</td>\n",
       "    </tr>\n",
       "    <tr>\n",
       "      <th>22.0</th>\n",
       "      <td>0.000131</td>\n",
       "    </tr>\n",
       "  </tbody>\n",
       "</table>\n",
       "</div>"
      ],
      "text/plain": [
       "numbabes\n",
       "0.0     0.422533\n",
       "1.0     0.198770\n",
       "2.0     0.209762\n",
       "3.0     0.108349\n",
       "4.0     0.040434\n",
       "5.0     0.012431\n",
       "6.0     0.003795\n",
       "7.0     0.001963\n",
       "8.0     0.001047\n",
       "9.0     0.000262\n",
       "10.0    0.000393\n",
       "16.0    0.000131\n",
       "22.0    0.000131\n",
       "Name: , dtype: float64"
      ]
     },
     "execution_count": 59,
     "metadata": {},
     "output_type": "execute_result"
    }
   ],
   "source": [
    "pmf = ftab/ftab.sum()\n",
    "pmf"
   ]
  },
  {
   "cell_type": "code",
   "execution_count": 63,
   "id": "7247b1cd",
   "metadata": {},
   "outputs": [
    {
     "data": {
      "image/png": "[encoded data removed]",
      "text/plain": [
       "<Figure size 640x480 with 1 Axes>"
      ]
     },
     "metadata": {},
     "output_type": "display_data"
    }
   ],
   "source": [
    "# Right-skewed distribution\n",
    "plt.title(\"PMF - Number of babies\")\n",
    "pmf.bar()\n",
    "\n",
    "plt.xlabel(\"Number of babies\")\n",
    "plt.ylabel(\"PMF\")\n",
    "plt.show()"
   ]
  },
  {
   "cell_type": "code",
   "execution_count": null,
   "id": "4af33166",
   "metadata": {},
   "outputs": [],
   "source": []
  },
  {
   "cell_type": "markdown",
   "id": "5ad39820",
   "metadata": {},
   "source": [
    "### Exercise 3.2\n",
    "\n",
    "In the same way that the mean identifies a central point in a distribution, and variance quantifies its spread, there is another statistic, called skewness, that indicates whether a distribution is skewed to the left or right.\n",
    "\n",
    "Given a sample, we can compute the skewness by computing the sum of the cubed deviations and dividing by the standard deviation cubed. For example, here’s how we compute the skewness of ```numbabes```.\n",
    "\n",
    "\n",
    "If you are given a Pmf, rather than a sequence of values, you can compute skewness like this:\n",
    "\n",
    "1. Compute the deviation of each quantity in the Pmf from the mean.\n",
    "\n",
    "2. Cube the deviations, multiply by the probabilities in the Pmf, and add up the products.\n",
    "\n",
    "3. Divide the sum by the standard deviation cubed.\n",
    "\n",
    "Write a function called ```pmf_skewness``` that takes a Pmf object and returns its skewness.\n",
    "\n",
    "Use your function and the Pmf of numbabes to compute skewness, and confirm you get the same result we computed above."
   ]
  },
  {
   "cell_type": "code",
   "execution_count": 65,
   "id": "2ea12c00",
   "metadata": {},
   "outputs": [
    {
     "data": {
      "text/plain": [
       "1.7018914266755378"
      ]
     },
     "execution_count": 65,
     "metadata": {},
     "output_type": "execute_result"
    }
   ],
   "source": [
    "# Calculate skewness\n",
    "deviations = resp.numbabes - resp.numbabes.mean()\n",
    "skewness = np.mean(deviations**3) / resp.numbabes.std(ddof=0) ** 3\n",
    "skewness"
   ]
  },
  {
   "cell_type": "markdown",
   "id": "82caa5db",
   "metadata": {},
   "source": [
    "A positive value indicates that a distribution is skewed to the right, and a negative value indicates that it is skewed to the left."
   ]
  },
  {
   "cell_type": "code",
   "execution_count": 66,
   "id": "a0d372c4",
   "metadata": {},
   "outputs": [],
   "source": [
    "def pmf_skewness(pmf_tab):\n",
    "    deviations = pmf.qs - pmf.mean()\n",
    "    return (np.sum((deviations**3) * pmf.ps)) / pmf.std()**3"
   ]
  },
  {
   "cell_type": "code",
   "execution_count": 67,
   "metadata": {},
   "outputs": [
    {
     "data": {
      "text/plain": [
       "1.7018914266755958"
      ]
     },
     "execution_count": 67,
     "metadata": {},
     "output_type": "execute_result"
    }
   ],
   "source": [
    "pmf_skewness(pmf)"
   ]
  },
  {
   "cell_type": "code",
   "execution_count": null,
   "id": "688a017f",
   "metadata": {},
   "outputs": [],
   "source": []
  },
  {
   "cell_type": "markdown",
   "id": "c961cfae",
   "metadata": {},
   "source": [
    "### Exercise 3.3\n",
    "\n",
    "Something like the class size paradox appears if you survey children and ask how many children are in their family. Families with many children are more likely to appear in your sample, and families with no children have no chance to be in the sample at all.\n",
    "\n",
    "From ```resp```, select ```numkdhh```, which records the number of children under 18 in each respondent’s household. Make a ```Pmf``` of the values in this column.\n",
    "\n",
    "Use the ```bias``` function to compute the distribution we would see if we surveyed the children and asked them how many children under 18 (including themselves) are in their household.\n",
    "\n",
    "Plot the actual and biased distributions, and compute their means."
   ]
  },
  {
   "cell_type": "code",
   "execution_count": 69,
   "id": "951f92b4",
   "metadata": {},
   "outputs": [],
   "source": [
    "num_18 = resp.numkdhh"
   ]
  },
  {
   "cell_type": "code",
   "execution_count": 73,
   "id": "c40fefb1",
   "metadata": {},
   "outputs": [
    {
     "data": {
      "text/html": [
       "<div>\n",
       "<style scoped>\n",
       "    .dataframe tbody tr th:only-of-type {\n",
       "        vertical-align: middle;\n",
       "    }\n",
       "\n",
       "    .dataframe tbody tr th {\n",
       "        vertical-align: top;\n",
       "    }\n",
       "\n",
       "    .dataframe thead th {\n",
       "        text-align: right;\n",
       "    }\n",
       "</style>\n",
       "<table border=\"1\" class=\"dataframe\">\n",
       "  <thead>\n",
       "    <tr style=\"text-align: right;\">\n",
       "      <th></th>\n",
       "      <th>probs</th>\n",
       "    </tr>\n",
       "    <tr>\n",
       "      <th>numkdhh</th>\n",
       "      <th></th>\n",
       "    </tr>\n",
       "  </thead>\n",
       "  <tbody>\n",
       "    <tr>\n",
       "      <th>0</th>\n",
       "      <td>0.466178</td>\n",
       "    </tr>\n",
       "    <tr>\n",
       "      <th>1</th>\n",
       "      <td>0.214052</td>\n",
       "    </tr>\n",
       "    <tr>\n",
       "      <th>2</th>\n",
       "      <td>0.196258</td>\n",
       "    </tr>\n",
       "    <tr>\n",
       "      <th>3</th>\n",
       "      <td>0.087139</td>\n",
       "    </tr>\n",
       "    <tr>\n",
       "      <th>4</th>\n",
       "      <td>0.025644</td>\n",
       "    </tr>\n",
       "    <tr>\n",
       "      <th>5</th>\n",
       "      <td>0.010729</td>\n",
       "    </tr>\n",
       "  </tbody>\n",
       "</table>\n",
       "</div>"
      ],
      "text/plain": [
       "numkdhh\n",
       "0    0.466178\n",
       "1    0.214052\n",
       "2    0.196258\n",
       "3    0.087139\n",
       "4    0.025644\n",
       "5    0.010729\n",
       "Name: , dtype: float64"
      ]
     },
     "execution_count": 73,
     "metadata": {},
     "output_type": "execute_result"
    }
   ],
   "source": [
    "actual_pmf = Pmf.from_seq(num_18)\n",
    "actual_pmf"
   ]
  },
  {
   "cell_type": "code",
   "execution_count": 74,
   "id": "384544ae",
   "metadata": {},
   "outputs": [
    {
     "data": {
      "text/plain": [
       "1.024205155043831"
      ]
     },
     "execution_count": 74,
     "metadata": {},
     "output_type": "execute_result"
    }
   ],
   "source": [
    "actual_pmf.mean()"
   ]
  },
  {
   "cell_type": "code",
   "execution_count": null,
   "id": "ec8d3c00",
   "metadata": {},
   "outputs": [
    {
     "data": {
      "text/html": [
       "<div>\n",
       "<style scoped>\n",
       "    .dataframe tbody tr th:only-of-type {\n",
       "        vertical-align: middle;\n",
       "    }\n",
       "\n",
       "    .dataframe tbody tr th {\n",
       "        vertical-align: top;\n",
       "    }\n",
       "\n",
       "    .dataframe thead th {\n",
       "        text-align: right;\n",
       "    }\n",
       "</style>\n",
       "<table border=\"1\" class=\"dataframe\">\n",
       "  <thead>\n",
       "    <tr style=\"text-align: right;\">\n",
       "      <th></th>\n",
       "      <th>probs</th>\n",
       "    </tr>\n",
       "  </thead>\n",
       "  <tbody>\n",
       "    <tr>\n",
       "      <th>0</th>\n",
       "      <td>0.000000</td>\n",
       "    </tr>\n",
       "    <tr>\n",
       "      <th>1</th>\n",
       "      <td>0.208993</td>\n",
       "    </tr>\n",
       "    <tr>\n",
       "      <th>2</th>\n",
       "      <td>0.383240</td>\n",
       "    </tr>\n",
       "    <tr>\n",
       "      <th>3</th>\n",
       "      <td>0.255238</td>\n",
       "    </tr>\n",
       "    <tr>\n",
       "      <th>4</th>\n",
       "      <td>0.100153</td>\n",
       "    </tr>\n",
       "    <tr>\n",
       "      <th>5</th>\n",
       "      <td>0.052376</td>\n",
       "    </tr>\n",
       "  </tbody>\n",
       "</table>\n",
       "</div>"
      ],
      "text/plain": [
       "0    0.000000\n",
       "1    0.208993\n",
       "2    0.383240\n",
       "3    0.255238\n",
       "4    0.100153\n",
       "5    0.052376\n",
       "Name: Biased, dtype: float64"
      ]
     },
     "execution_count": 77,
     "metadata": {},
     "output_type": "execute_result"
    }
   ],
   "source": [
    "# Use the bias function to compute the distribution we would see if we surveyed the children and asked them how many children under 18 (including themselves) are in their household.\n",
    "# 0 kid, 0 probability\n",
    "observed_pmf = bias(actual_pmf, name=\"Biased\")\n",
    "observed_pmf"
   ]
  },
  {
   "cell_type": "code",
   "execution_count": 78,
   "id": "933c8c31",
   "metadata": {},
   "outputs": [
    {
     "data": {
      "text/plain": [
       "2.403679100664282"
      ]
     },
     "execution_count": 78,
     "metadata": {},
     "output_type": "execute_result"
    }
   ],
   "source": [
    "observed_pmf.mean()"
   ]
  },
  {
   "cell_type": "code",
   "execution_count": 81,
   "id": "22fbcd0c",
   "metadata": {},
   "outputs": [
    {
     "data": {
      "image/png": "[encoded data removed]",
      "text/plain": [
       "<Figure size 640x480 with 1 Axes>"
      ]
     },
     "metadata": {},
     "output_type": "display_data"
    }
   ],
   "source": [
    "plt.title(\"PMF - Actual vs. Observed\")\n",
    "two_bar_plots(actual_pmf, observed_pmf, label_1=\"Actual\", label_2=\"Observed\")\n",
    "\n",
    "plt.xlabel(\"Weeks\")\n",
    "plt.ylabel(\"PMF\")\n",
    "plt.legend()\n",
    "plt.show()"
   ]
  },
  {
   "cell_type": "code",
   "execution_count": null,
   "id": "4bf69bd7",
   "metadata": {},
   "outputs": [],
   "source": []
  }
 ],
 "metadata": {
  "kernelspec": {
   "display_name": "base",
   "language": "python",
   "name": "python3"
  },
  "language_info": {
   "codemirror_mode": {
    "name": "ipython",
    "version": 3
   },
   "file_extension": ".py",
   "mimetype": "text/x-python",
   "name": "python",
   "nbconvert_exporter": "python",
   "pygments_lexer": "ipython3",
   "version": "3.9.20"
  }
 },
 "nbformat": 4,
 "nbformat_minor": 5
}
